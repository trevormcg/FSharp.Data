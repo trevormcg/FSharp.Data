
        {
            "cells": [
          {
           "cell_type": "markdown",
           "metadata": {},
           
           "source": ["// can\u0027t yet format YamlFrontmatter ([\"category: Type Providers\"; \"categoryindex: 1\"; \"index: 2\"], Some { StartLine = 2 StartColumn = 0 EndLine = 5 EndColumn = 8 }) to pynb markdown\n",
"\n"]
          }
,
          {
           "cell_type": "code",
           "metadata": {},
            "execution_count": null, "outputs": [], 
           "source": ["#r \"nuget: FSharp.Data,4.1.1\"\n",
"\n",
"Formatter.SetPreferredMimeTypeFor(typeof\u003cobj\u003e, \"text/plain\")\n",
"Formatter.Register(fun (x:obj) (writer: TextWriter) -\u003e fprintfn writer \"%120A\" x )\n"]
          }
,
          {
           "cell_type": "markdown",
           "metadata": {},
           
           "source": ["[![Binder](../img/badge-binder.svg)](https://mybinder.org/v2/gh/diffsharp/diffsharp.github.io/master?filepath=library/HtmlProvider.ipynb)\u0026emsp;\n",
"[![Script](../img/badge-script.svg)](library/HtmlProvider.fsx)\u0026emsp;\n",
"[![Notebook](../img/badge-notebook.svg)](library/HtmlProvider.ipynb)\n",
"\n",
"# HTML Type Provider\n",
"\n",
"This article demonstrates how to use the HTML type provider to read HTML tables files\n",
"in a statically typed way. \n",
"\n",
"The HTML Type Provider takes a sample HTML document as input and generates a type based on the data\n",
"present in the columns of that sample. The column names are obtained from the first (header) row.\n",
"\n",
"## Introducing the provider\n",
"\n",
"The type provider is located in the `FSharp.Data.dll` assembly. Assuming the assembly \n",
"is located in the `../../../bin` directory, we can load it in F# Interactive as follows:\n"]
          }
,
          {
           "cell_type": "code",
           "metadata": {},
            "execution_count": 2, "outputs": [], 
           "source": ["open FSharp.Data\n"]
          }
,
          {
           "cell_type": "markdown",
           "metadata": {},
           
           "source": ["### Parsing Power Market Data\n",
"\n",
"The Elexon - BM Reports website provides market data about the U.K\u0027s current power system. For simplicity, an example of this data below is shown in CSV format.\n",
"\n",
"    [lang=text]\n",
"    Settlement Day,Period,IMBALNGC,Offer Volume Bid Volume,Accepted Offer Vol,Accepted Bid Vol,UAOV,UABV,PAOV,PABV\n",
"    2014-01-14,1,877.000,52378.500,-53779.500,348.200,-654.374,0.000,0.000,348.200,-654.374 \n",
"    2014-01-14,2,196.000,52598.000,-53559.500,349.601,-310.862,0.000,0.000,316.701,-310.862 \n",
"    2014-01-14,3,-190.000,52575.000,-53283.500,186.183,-2.426,0.000,0.000,162.767,-1.917 \n",
"    2014-01-14,4,-61.000,52576.000,-53454.500,18.000,-24.158,0.000,0.000,18.000,-24.158 \n",
"\n",
"\n",
"Usually with HTML files headers are demarked by using the \u003cth\u003e tag, however in this file this is not the case, so the provider assumes that the\n",
"first row is headers. (This behaviour is likely to get smarter in later releases). But it highlights a general problem about HTML\u0027s strictness. \n"]
          }
,
          {
           "cell_type": "code",
           "metadata": {},
            "execution_count": 3, "outputs": [], 
           "source": ["type F1_2017 = HtmlProvider\u003c\"../data/2017_F1.htm\", ResolutionFolder=__SOURCE_DIRECTORY__\u003e\n"]
          }
,
          {
           "cell_type": "markdown",
           "metadata": {},
           
           "source": ["The generated type provides a type space of tables that it has managed to parse out of the given HTML Document.\n",
"Each type\u0027s name is derived from either the id, title, name, summary or caption attributes/tags provided. If none of these \n",
"entities exist then the table will simply be named `Tablexx` where xx is the position in the HTML document if all of the tables were flatterned out into a list.\n",
"The `Load` method allows reading the data from a file or web resource. We could also have used a web URL instead of a local file in the sample parameter of the type provider.\n",
"The following sample calls the `Load` method with an URL that points to a live version of the same page on wikipedia.\n"]
          }
,
          {
           "cell_type": "code",
           "metadata": {},
            "execution_count": 4, "outputs": [
          {
           "data": {
            "text/plain": [""]
        },
           "execution_count": 4,
           "metadata": {},
           "output_type": "execute_result"
          }], 
           "source": ["let url = \n",
"  \"https://en.wikipedia.org/wiki/\" +\n",
"    \"2017_FIA_Formula_One_World_Championship\"\n",
"\n",
"// Download the latest market depth information\n",
"let f1Calendar = \n",
"  F1_2017.Load(url).Tables.``Season calendar``\n",
"\n",
"// Look at the most recent row. Note the \u0027Date\u0027 property\n",
"// is of type \u0027DateTime\u0027 and \u0027Open\u0027 has a type \u0027decimal\u0027\n",
"let firstRow = f1Calendar.Rows |\u003e Seq.head\n",
"let round = firstRow.Round\n",
"let grandPrix = firstRow.``Grand Prix``\n",
"let date = firstRow.Date\n",
"\n",
"// Print the bid / offer volumes for each row\n",
"for row in f1Calendar.Rows do\n",
"  printfn \"Race, round %A is hosted at %A on %A\" \n",
"    row.Round row.``Grand Prix`` row.Date\n"]
          }
,
          {
           "cell_type": "markdown",
           "metadata": {},
           
           "source": ["The generated type has a property `Rows` that returns the data from the HTML file as a\n",
"collection of rows. We iterate over the rows using a `for` loop. As you can see the\n",
"(generated) type for rows has properties such as `Grand Prix`, `Circuit`, `Round` and `Date` that correspond\n",
"to the columns in the selected HTML table file.\n",
"\n",
"As you can see, the type provider also infers types of individual rows. The `Date`\n",
"property is inferred to be a `DateTime` (because the values in the sample file can all\n",
"be parsed as dates) while other columns are inferred as the correct type where possible.\n",
"### Parsing Nuget package stats\n",
"\n",
"This small sample shows how the HTML Type Provider can be used to scrape data from a website. In this example we analyze the download counts of the FSharp.Data package on NuGet.\n",
"Note that we\u0027re using the live URL as the sample, so we can just use the default constructor as the runtime data will be the same as the compile time data.\n",
"\n"]
          }
,
          {
           "cell_type": "code",
           "metadata": {},
            "execution_count": 5, "outputs": [
          {
           "data": {
            "text/plain": ["type NugetStats = HtmlProvider\u003c...\u003e",
"",
"val rawStats : HtmlProvider\u003c...\u003e.VersionHistory",
"",
"val getMinorVersion : v:string -\u003e string",
"",
"val stats : (string * decimal) [] =",
"",
"  [|(\"4.1\", 31398M); (\"4.0\", 26868M); (\"3.3\", 573217M); (\"3.2\", 14141M);",
"",
"    (\"3.1\", 162031M); (\"3.0\", 330557M); (\"2.4\", 376084M); (\"2.3\", 447292M);",
"",
"    (\"2.2\", 276660M); (\"2.1\", 26141M); (\"2.0\", 77155M); (\"1.1\", 68375M);",
"",
"    (\"1.0\", 17672M)|]"]
        },
           "execution_count": 5,
           "metadata": {},
           "output_type": "execute_result"
          }], 
           "source": ["// Configure the type provider\n",
"type NugetStats = \n",
"  HtmlProvider\u003c\"https://www.nuget.org/packages/FSharp.Data\"\u003e\n",
"\n",
"// load the live package stats for FSharp.Data\n",
"let rawStats = NugetStats().Tables.``Version History``\n",
"\n",
"// helper function to analyze version numbers from nuget\n",
"let getMinorVersion (v:string) =  \n",
"  System.Text.RegularExpressions.Regex(@\"\\d.\\d\").Match(v).Value\n",
"\n",
"// group by minor version and calculate download count\n",
"let stats = \n",
"  rawStats.Rows\n",
"  |\u003e Seq.groupBy (fun r -\u003e \n",
"      getMinorVersion r.Version)\n",
"  |\u003e Seq.map (fun (k, xs) -\u003e \n",
"      k, xs |\u003e Seq.sumBy (fun x -\u003e x.Downloads))\n",
"  |\u003e Seq.toArray\n"]
          }
,
          {
           "cell_type": "markdown",
           "metadata": {},
           
           "source": ["### Getting statistics on Doctor Who \n",
"\n",
"This sample shows some more screen scraping from Wikipedia:\n",
"\n"]
          }
,
          {
           "cell_type": "code",
           "metadata": {},
            "execution_count": 6, "outputs": [
          {
           "data": {
            "text/plain": ["val DrWho : string =",
"",
"  \"https://en.wikipedia.org/wiki/List_of_Doctor_Who_episodes_(19\"+[16 chars]",
"",
"=",
"",
"\"https://en.wikipedia.org/wiki/List_of_Doctor_Who_episodes_(1963%E2%80%931989)\"",
"",
"val doctorWho : HtmlProvider\u003c...\u003e",
"",
"val viewersByDoctor : (string * float) [] =",
"",
"  [|(\"Waris Hussein\", 8.0); (\"\", nan); (\"Christopher Barry\", 8.275);",
"",
"    (\"Richard Martin\", 10.025); (\"Frank Cox\", 7.9); (\"John Crockett\", 8.0);",
"",
"    (\"John Gorrie\", 9.066666667); (\"Mervyn Pinfield\", 6.925);",
"",
"    (\"Henric Hirsch\", 6.733333333)|]"]
        },
           "execution_count": 6,
           "metadata": {},
           "output_type": "execute_result"
          }], 
           "source": ["let [\u003cLiteral\u003e] DrWho = \n",
"  \"https://en.wikipedia.org/wiki/List_of_Doctor_Who_episodes_(1963%E2%80%931989)\"\n",
"\n",
"let doctorWho = new HtmlProvider\u003cDrWho\u003e()\n",
"\n",
"// Get the average number of viewers for each doctor\u0027s series run\n",
"let viewersByDoctor = \n",
"  doctorWho.Tables.``Season 1 (1963-1964) Edit``.Rows\n",
"  |\u003e Seq.groupBy (fun season -\u003e season.``Directed by``)\n",
"  |\u003e Seq.map (fun (doctor, seasons) -\u003e \n",
"      let averaged = \n",
"        seasons \n",
"        |\u003e Seq.averageBy (fun season -\u003e \n",
"            season.``UK viewers (millions)``)\n",
"      doctor, averaged)\n",
"  |\u003e Seq.toArray\n"]
          }
,
          {
           "cell_type": "markdown",
           "metadata": {},
           
           "source": ["## Related articles\n",
"\n",
" * [HTML Parser](HtmlParser.html) - provides more information about \n",
"   working with HTML documents dynamically.\n",
"\n"]
          }],
            "metadata": {
            "kernelspec": {"display_name": ".NET (F#)", "language": "F#", "name": ".net-fsharp"},
            "langauge_info": {
        "file_extension": ".fs",
        "mimetype": "text/x-fsharp",
        "name": "C#",
        "pygments_lexer": "fsharp",
        "version": "4.5"
        }
        },
            "nbformat": 4,
            "nbformat_minor": 1
        }
        

