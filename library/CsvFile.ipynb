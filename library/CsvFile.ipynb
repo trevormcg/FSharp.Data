
        {
            "cells": [
          {
           "cell_type": "markdown",
           "metadata": {},
           
           "source": ["// can\u0027t yet format YamlFrontmatter ([\"category: Utilities\"; \"categoryindex: 2\"; \"index: 1\"], Some { StartLine = 2 StartColumn = 0 EndLine = 5 EndColumn = 8 }) to pynb markdown\n",
"\n"]
          }
,
          {
           "cell_type": "code",
           "metadata": {},
            "execution_count": null, "outputs": [], 
           "source": ["#r \"nuget: FSharp.Data,4.1.1\"\n",
"\n",
"Formatter.SetPreferredMimeTypeFor(typeof\u003cobj\u003e, \"text/plain\")\n",
"Formatter.Register(fun (x:obj) (writer: TextWriter) -\u003e fprintfn writer \"%120A\" x )\n"]
          }
,
          {
           "cell_type": "markdown",
           "metadata": {},
           
           "source": ["[![Binder](../img/badge-binder.svg)](https://mybinder.org/v2/gh/diffsharp/diffsharp.github.io/master?filepath=library/CsvFile.ipynb)\u0026emsp;\n",
"[![Script](../img/badge-script.svg)](library/CsvFile.fsx)\u0026emsp;\n",
"[![Notebook](../img/badge-notebook.svg)](library/CsvFile.ipynb)\n",
"\n",
"# CSV Parser\n",
"\n",
"The F# [CSV Type Provider](CsvProvider.html) is built on top of an efficient CSV parser written\n",
"in F#. There\u0027s also a simple API that can be used to access values dynamically.\n",
"\n",
"When working with well-defined CSV documents, it is easier to use the \n",
"[type provider](CsvProvider.html), but in a more dynamic scenario or when writing\n",
"quick and simple scripts, the parser might be a simpler option.\n",
"\n",
"## Loading CSV documents\n",
"\n",
"To load a sample CSV document, we first need to reference the `FSharp.Data` package. \n"]
          }
,
          {
           "cell_type": "code",
           "metadata": {},
            "execution_count": 2, "outputs": [], 
           "source": ["open FSharp.Data\n"]
          }
,
          {
           "cell_type": "markdown",
           "metadata": {},
           
           "source": ["The `FSharp.Data` namespace contains the `cref:T:FSharp.Data.CsvFile` type that provides two static methods\n",
"for loading data. The `cref:M:FSharp.Data.CsvFile.Parse` method can be used if we have the data in a `string` value.\n",
"The `cref:M:FSharp.Data.CsvFile.Load` method allows reading the data from a file or from a web resource (and there\u0027s\n",
"also an asynchronous `cref:M:FSharp.Data.CsvFile.AsyncLoad` version). The following sample calls `cref:M:FSharp.Data.CsvFile.Load` with a URL that\n",
"points to a live CSV file on the Yahoo finance web site:\n"]
          }
,
          {
           "cell_type": "code",
           "metadata": {},
            "execution_count": 3, "outputs": [], 
           "source": ["// Download the stock prices\n",
"let msft = CsvFile.Load(__SOURCE_DIRECTORY__ + \"/../data/MSFT.csv\").Cache()\n",
"\n",
"// Print the prices in the HLOC format\n",
"for row in msft.Rows do\n",
"  printfn \"HLOC: (%s, %s, %s)\" \n",
"    (row.GetColumn \"High\") (row.GetColumn \"Low\") (row.GetColumn \"Date\")\n"]
          }
,
          {
           "cell_type": "markdown",
           "metadata": {},
           
           "source": ["Note that unlike `CsvProvider`, `cref:T:FSharp.Data.CsvFile` works in streaming mode for performance reasons, which means\n",
"that ``cref:P:FSharp.Data.Runtime.CsvFile`1.Rows`` can only be iterated once. If you need to iterate multiple times, use the ``cref:M:FSharp.Data.Runtime.CsvFile`1.Cache`` method, \n",
"but please note that this will increase memory usage and should not be used in large datasets.\n",
"\n",
"## Using CSV extensions\n",
"\n",
"Now we look at a number of extensions that become available after \n",
"opening the `cref:T:FSharp.Data.CsvExtensionsModule` namespace. Once opened, we can write:\n",
"\n",
" * `row?column` uses the dynamic operator to obtain the column value named `column`;\n",
"    alternatively, you can also use an indexer `row.[column]`.\n",
" * `value.AsBoolean()` returns the value as boolean if it is either `true` or `false` (see `cref:M:FSharp.Data.StringExtensions.AsBoolean`)\n",
" * `value.AsInteger()` returns the value as integer if it is numeric and can be\n",
"   converted to an integer; `value.AsInteger64()`, `value.AsDecimal()` and\n",
"   `value.AsFloat()` behave similarly.\n",
" * `value.AsDateTime()` returns the value as a `DateTime` value using either the\n",
"    [ISO 8601](http://en.wikipedia.org/wiki/ISO_8601) format, or using the \n",
"    `\\/Date(...)\\/` JSON format containing number of milliseconds since 1/1/1970.\n",
" * `value.AsDateTimeOffset()` parses the string as a `DateTimeOffset` value using either the\n",
"    [ISO 8601](http://en.wikipedia.org/wiki/ISO_8601) format, or using the \n",
"    `\\/Date(...[+/-]offset)\\/` JSON format containing number of milliseconds since 1/1/1970, \n",
"    [+/-] the 4 digit offset. Example- `\\/Date(1231456+1000)\\/`.\n",
" * `value.AsTimeSpan()` parses the string as a `TimeSpan` value.\n",
" * `value.AsGuid()` returns the value as a `Guid` value.\n",
"\n",
"Methods that may need to parse a numeric value or date (such as `AsFloat` and\n",
"`AsDateTime`) receive an optional culture parameter.\n",
"\n",
"The following example shows how to process the sample previous CSV sample using these extensions:\n"]
          }
,
          {
           "cell_type": "code",
           "metadata": {},
            "execution_count": 4, "outputs": [], 
           "source": ["open FSharp.Data.CsvExtensions\n",
"\n",
"for row in msft.Rows do\n",
"  printfn \"HLOC: (%f, %M, %O)\" \n",
"    (row.[\"High\"].AsFloat()) (row?Low.AsDecimal()) (row?Date.AsDateTime())\n"]
          }
,
          {
           "cell_type": "markdown",
           "metadata": {},
           
           "source": ["## Transforming CSV files\n",
"\n",
"In addition to reading, ``cref:T:FSharp.Data.Runtime.CsvFile`1`` also has support for transforming CSV files. The operations\n",
"available are ``cref:M:FSharp.Data.Runtime.CsvFile`1.Filter``, `Take`, `TakeWhile`, `Skip`, `SkipWhile`, and `Truncate`. After transforming\n",
"you can save the results by using one of the overloads of the `Save` method. You can choose different\n",
"separator and quote characters when saving.\n"]
          }
,
          {
           "cell_type": "code",
           "metadata": {},
            "execution_count": 5, "outputs": [], 
           "source": ["// Saving the first 10 stock prices where the closing price is higher than the opening price in TSV format:\n",
"msft.Filter(fun row -\u003e row?Close.AsFloat() \u003e row?Open.AsFloat())\n",
"    .Truncate(10)\n",
"    .SaveToString(\u0027\\t\u0027)\n"]
          }
,
          {
           "cell_type": "markdown",
           "metadata": {},
           
           "source": ["## Related articles\n",
"\n",
" * [CSV Type Provider](CsvProvider.html) - discusses F# type provider\n",
"   that provides type-safe access to CSV data\n",
" * API Reference: `cref:T:FSharp.Data.CsvFile`\n",
" * API Reference: `cref:T:FSharp.Data.CsvRow`\n",
" * API Reference: `cref:T:FSharp.Data.CsvExtensionsModule`\n",
"\n"]
          }],
            "metadata": {
            "kernelspec": {"display_name": ".NET (F#)", "language": "F#", "name": ".net-fsharp"},
            "langauge_info": {
        "file_extension": ".fs",
        "mimetype": "text/x-fsharp",
        "name": "C#",
        "pygments_lexer": "fsharp",
        "version": "4.5"
        }
        },
            "nbformat": 4,
            "nbformat_minor": 1
        }
        

