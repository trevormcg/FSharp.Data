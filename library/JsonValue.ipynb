
        {
            "cells": [
          {
           "cell_type": "markdown",
           "metadata": {},
           
           "source": ["// can\u0027t yet format YamlFrontmatter ([\"category: Utilities\"; \"categoryindex: 1\"; \"index: 5\"], Some { StartLine = 2 StartColumn = 0 EndLine = 5 EndColumn = 8 }) to pynb markdown\n",
"\n"]
          }
,
          {
           "cell_type": "code",
           "metadata": {},
            "execution_count": null, "outputs": [], 
           "source": ["#r \"nuget: FSharp.Data,4.1.1\"\n",
"\n",
"Formatter.SetPreferredMimeTypeFor(typeof\u003cobj\u003e, \"text/plain\")\n",
"Formatter.Register(fun (x:obj) (writer: TextWriter) -\u003e fprintfn writer \"%120A\" x )\n"]
          }
,
          {
           "cell_type": "markdown",
           "metadata": {},
           
           "source": ["[![Binder](../img/badge-binder.svg)](https://mybinder.org/v2/gh/diffsharp/diffsharp.github.io/master?filepath=library/JsonValue.ipynb)\u0026emsp;\n",
"[![Script](../img/badge-script.svg)](library/JsonValue.fsx)\u0026emsp;\n",
"[![Notebook](../img/badge-notebook.svg)](library/JsonValue.ipynb)\n",
"\n",
"# JSON Parser\n",
"\n",
"The F# [JSON Type Provider](JsonProvider.html) is built on top of an efficient JSON parser written\n",
"in F#.\n",
"\n",
"When working with well-defined JSON documents, it is easier to use the \n",
"[type provider](JsonProvider.html), but in a more dynamic scenario or when writing\n",
"quick and simple scripts, the parser might be a simpler option.\n",
"\n",
"## Loading JSON documents\n",
"\n",
"To load a sample JSON document, we first need to reference the `FSharp.Data` package. \n"]
          }
,
          {
           "cell_type": "code",
           "metadata": {},
            "execution_count": 2, "outputs": [], 
           "source": ["open FSharp.Data\n"]
          }
,
          {
           "cell_type": "markdown",
           "metadata": {},
           
           "source": ["The `FSharp.Data` namespace contains the `cref:T:FSharp.Data.JsonValue` type that can be used\n",
"to parse strings formatted using JSON as follows:\n"]
          }
,
          {
           "cell_type": "code",
           "metadata": {},
            "execution_count": 3, "outputs": [], 
           "source": ["let info =\n",
"  JsonValue.Parse(\"\"\" \n",
"    { \"name\": \"Tomas\", \"born\": 1985,\n",
"      \"siblings\": [ \"Jan\", \"Alexander\" ] } \"\"\")\n"]
          }
,
          {
           "cell_type": "markdown",
           "metadata": {},
           
           "source": ["The parsed value can be processed using pattern matching - the `cref:T:FSharp.Data.JsonValue` type\n",
"is a discriminated union with cases such as `Record`, `Collection` and others that\n",
"can be used to examine the structure.\n",
"\n",
"## Using JSON extensions\n",
"\n",
"We do not cover this technique in this introduction. Instead, we look at a number\n",
"of extensions that become available after opening the `cref:T:FSharp.Data.JsonExtensionsModule` \n",
"module. Once opened, we can write:\n",
"\n",
" * `value.AsBoolean()` returns the value as boolean if it is either `true` or `false`.\n",
" * `value.AsInteger()` returns the value as integer if it is numeric and can be\n",
"   converted to an integer; `value.AsInteger64()`, `value.AsDecimal()` and\n",
"   `value.AsFloat()` behave similarly.\n",
" * `value.AsString()` returns the value as a string.\n",
" * `value.AsDateTime()` parses the string as a `DateTime` value using either the\n",
"    [ISO 8601](http://en.wikipedia.org/wiki/ISO_8601) format, or using the \n",
"    `\\/Date(...)\\/` JSON format containing number of milliseconds since 1/1/1970.\n",
" * `value.AsDateTimeOffset()` parses the string as a `DateTimeOffset` value using either the\n",
"    [ISO 8601](http://en.wikipedia.org/wiki/ISO_8601) format, or using the \n",
"    `\\/Date(...[+/-]offset)\\/` JSON format containing number of milliseconds since 1/1/1970, \n",
"    [+/-] the 4 digit offset. Example- `\\/Date(1231456+1000)\\/`.\n",
" * `value.AsTimeSpan()` parses the string as a `TimeSpan` value.\n",
" * `value.AsGuid()` parses the string as a `Guid` value.\n",
" * `value?child` uses the dynamic operator to obtain a record member named `child`;\n",
"    alternatively, you can also use `value.GetProperty(child)` or an indexer\n",
"    `value.[child]`.\n",
" * `value.TryGetProperty(child)` can be used to safely obtain a record member \n",
"    (if the member is missing or the value is not a record then, `TryGetProperty` \n",
"    returns `None`).\n",
" * `[ for v in value -\u003e v ]` treats `value` as a collection and iterates over it;\n",
"   alternatively, it is possible to obtain all elements as an array using \n",
"   `value.AsArray()`.\n",
" * `value.Properties()` returns a list of all properties of a record node.\n",
" * `value.InnerText()` concatenates all text or text in an array \n",
"   (representing e.g. multi-line string).\n",
"\n",
"Methods that may need to parse a numeric value or date (such as `AsFloat` and\n",
"`AsDateTime`) receive an optional culture parameter.\n",
"\n",
"The following example shows how to process the sample JSON value:\n"]
          }
,
          {
           "cell_type": "code",
           "metadata": {},
            "execution_count": 4, "outputs": [], 
           "source": ["open FSharp.Data.JsonExtensions\n",
"\n",
"// Print name and birth year\n",
"let n = info?name\n",
"printfn \"%s (%d)\" (info?name.AsString()) (info?born.AsInteger())\n",
"\n",
"// Print names of all siblings\n",
"for sib in info?siblings do\n",
"  printfn \"%s\" (sib.AsString())\n"]
          }
,
          {
           "cell_type": "markdown",
           "metadata": {},
           
           "source": ["Note that the `cref:T:FSharp.Data.JsonValue` type does not actually implement the `IEnumerable\u003c\u0027T\u003e` \n",
"interface (meaning that it cannot be passed to `Seq.xyz` functions). It only has\n",
"the `GetEnumerator` method, which makes it possible to use it in sequence expressions\n",
"and with the `for` loop.\n",
"## Parsing WorldBank response\n",
"\n",
"To look at a more complex example, consider a sample document \n",
"[`data/WorldBank.json`](../data/WorldBank.json) which was obtained as a response to \n",
"a WorldBank request (you can access the WorldBank data more conveniently using\n",
"[a type provider](WorldBank.html)). The document looks as follows:\n",
"\n",
"    [lang=js]\n",
"    [ { \"page\": 1, \"pages\": 1, \"total\": 53 },\n",
"      [ { \"indicator\": {\"value\": \"Central government debt, total (% of GDP)\"},\n",
"          \"country\": {\"id\":\"CZ\",\"value\":\"Czech Republic\"},\n",
"          \"value\":null,\"decimal\":\"1\",\"date\":\"2000\"},\n",
"        { \"indicator\": {\"value\": \"Central government debt, total (% of GDP)\"},\n",
"          \"country\": {\"id\":\"CZ\",\"value\":\"Czech Republic\"},\n",
"          \"value\":\"16.6567773464055\",\"decimal\":\"1\",\"date\":\"2010\"} ] ]\n",
"\n",
"The document is formed by an array that contains a record as the first element\n",
"and a collection of data points as the second element. The following code\n",
"reads the document and parses it:\n"]
          }
,
          {
           "cell_type": "code",
           "metadata": {},
            "execution_count": 5, "outputs": [], 
           "source": ["let value = JsonValue.Load(__SOURCE_DIRECTORY__ + \"../../data/WorldBank.json\")\n"]
          }
,
          {
           "cell_type": "markdown",
           "metadata": {},
           
           "source": ["Note that we can also load the data directly from the web, and there\u0027s an\n",
"asynchronous version available too: \n"]
          }
,
          {
           "cell_type": "code",
           "metadata": {},
            "execution_count": 6, "outputs": [], 
           "source": ["let wbReq = \n",
"  \"http://api.worldbank.org/country/cz/indicator/\" + \n",
"  \"GC.DOD.TOTL.GD.ZS?format=json\"\n",
"\n",
"let valueAsync = \n",
"  JsonValue.AsyncLoad(wbReq)\n"]
          }
,
          {
           "cell_type": "markdown",
           "metadata": {},
           
           "source": ["To split the top-level array into the first record (with overall information) \n",
"and the collection of data points, we use pattern matching and match the `value`\n",
"against the `JsonValue.Array` constructor:\n"]
          }
,
          {
           "cell_type": "code",
           "metadata": {},
            "execution_count": 7, "outputs": [], 
           "source": ["match value with\n",
"| JsonValue.Array [| info; data |] -\u003e\n",
"    // Print overall information\n",
"    let page, pages, total = info?page, info?pages, info?total\n",
"    printfn \n",
"      \"Showing page %d of %d. Total records %d\" \n",
"      (page.AsInteger()) (pages.AsInteger()) (total.AsInteger())\n",
"    \n",
"    // Print every non-null data point\n",
"    for record in data do\n",
"      if record?value \u003c\u003e JsonValue.Null then\n",
"        printfn \"%d: %f\" (record?date.AsInteger()) \n",
"                         (record?value.AsFloat())\n",
"| _ -\u003e printfn \"failed\"\n"]
          }
,
          {
           "cell_type": "markdown",
           "metadata": {},
           
           "source": ["The `value` property of a data point is not always available - as demonstrated\n",
"above, the value may be `null`. In that case, we want to skip the data point.\n",
"To check whether the property is `null` we simply compare it with `JsonValue.Null`.\n",
"\n",
"The `date` values will be parsed as `DateTimeOffset` if there is an offset present. \n",
"However, for a mixed collection of `DateTime` (that is, without the offset) and \n",
"`DateTimeOffset` values, the type of the collection will be collection of `DateTime` \n",
"after parsing. Also note that the `date` and `value` properties are formatted as strings \n",
"in the source file (e.g. `\"1990\"`) instead of numbers (e.g. `1990`). When you try\n",
"accessing the value as an integer or float, the `cref:T:FSharp.Data.JsonValue` automatically parses\n",
"the string into the desired format. In general, the API attempts to be as tolerant\n",
"as possible when parsing the file.\n",
"\n",
"## Related articles\n",
"\n",
" * `cref:T:FSharp.Data.JsonValue`\n",
" * [JSON Type Provider](JsonProvider.html) - discusses a F# type provider\n",
"   that provides type-safe access to JSON data\n",
" * [WorldBank Provider](WorldBank.html) - the WorldBank type provider\n",
"   can be used to easily access data from the WorldBank\n",
" * API Reference: `cref:T:FSharp.Data.JsonValue`\n",
" * API Reference: `cref:T:FSharp.Data.JsonExtensions` type\n",
" * API Reference: `cref:T:FSharp.Data.JsonExtensionsModule` module\n",
"\n"]
          }],
            "metadata": {
            "kernelspec": {"display_name": ".NET (F#)", "language": "F#", "name": ".net-fsharp"},
            "langauge_info": {
        "file_extension": ".fs",
        "mimetype": "text/x-fsharp",
        "name": "C#",
        "pygments_lexer": "fsharp",
        "version": "4.5"
        }
        },
            "nbformat": 4,
            "nbformat_minor": 1
        }
        

