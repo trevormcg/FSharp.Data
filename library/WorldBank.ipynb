
        {
            "cells": [
          {
           "cell_type": "markdown",
           "metadata": {},
           
           "source": ["// can\u0027t yet format YamlFrontmatter ([\"category: Type Providers\"; \"categoryindex: 1\"; \"index: 5\"], Some { StartLine = 2 StartColumn = 0 EndLine = 5 EndColumn = 8 }) to pynb markdown\n",
"\n"]
          }
,
          {
           "cell_type": "code",
           "metadata": {},
            "execution_count": null, "outputs": [], 
           "source": ["#r \"nuget: FSharp.Data,4.1.1\"\n",
"\n",
"Formatter.SetPreferredMimeTypeFor(typeof\u003cobj\u003e, \"text/plain\")\n",
"Formatter.Register(fun (x:obj) (writer: TextWriter) -\u003e fprintfn writer \"%120A\" x )\n"]
          }
,
          {
           "cell_type": "markdown",
           "metadata": {},
           
           "source": ["[![Binder](../img/badge-binder.svg)](https://mybinder.org/v2/gh/diffsharp/diffsharp.github.io/master?filepath=library/WorldBank.ipynb)\u0026emsp;\n",
"[![Script](../img/badge-script.svg)](library/WorldBank.fsx)\u0026emsp;\n",
"[![Notebook](../img/badge-notebook.svg)](library/WorldBank.ipynb)\n",
"\n",
"# WorldBank Provider\n",
"\n",
"The [World Bank](http://www.worldbank.org) is an international organization that provides\n",
"financial and technical assistance to developing countries around the world. As one of the\n",
"activities, the World Bank also collects development indicators and other data about\n",
"countries in the world. The [data catalog](http://data.worldbank.org/) contains over\n",
"8,000 indicators that can be programmatically accessed.\n",
"\n",
"The WorldBank Type Provider makes the WorldBank data easily accessible to F# programs and\n",
"scripts in a type-safe manner. This article provides an introduction.\n",
"\n",
"## Introducing the provider\n",
"\n",
"\u003cdiv class=\"container-fluid\" style=\"margin:15px 0px 15px 0px;\"\u003e\n",
"\u003cdiv class=\"container-fluid\" style=\"margin:15px 0px 15px 0px;\"\u003e\n",
"    \u003cdiv class=\"row-fluid\"\u003e\n",
"        \u003cdiv class=\"span1\"\u003e\u003c/div\u003e\n",
"        \u003cdiv class=\"span10\" id=\"anim-holder\"\u003e\n",
"            \u003ca id=\"lnk\" href=\"../images/wb.gif\"\u003e\u003cimg id=\"anim\" src=\"../images/wb.gif\" /\u003e\u003c/a\u003e\n",
"        \u003c/div\u003e\n",
"        \u003cdiv class=\"span1\"\u003e\u003c/div\u003e\n",
"    \u003c/div\u003e\n",
"\u003c/div\u003e\n",
"\n",
"The following example initializes a connection to the WorldBank using the `GetDataContext` method and then\n",
"retrieves the percentage of population who attend universities in the UK:\n"]
          }
,
          {
           "cell_type": "code",
           "metadata": {},
            "execution_count": 2, "outputs": [], 
           "source": ["open FSharp.Data\n",
"\n",
"let data = WorldBankData.GetDataContext()\n",
"\n",
"data\n",
"  .Countries.``United Kingdom``\n",
"  .Indicators.``Gross capital formation (% of GDP)``\n",
"|\u003e Seq.maxBy fst\n"]
          }
,
          {
           "cell_type": "markdown",
           "metadata": {},
           
           "source": ["When generating the data context, the WorldBank Type Provider retrieves the list of all\n",
"countries known to the WorldBank and the list of all supported indicators. Both of these\n",
"dimensions are provided as properties, so you can use autocomplete to easily discover\n",
"various data sources. Most of the indicators use longer names, so we need to wrap the name\n",
"in `\\`\\``.\n",
"\n",
"The result of the `Gross capital formation (% of GDP)` property is a sequence with \n",
"values for different years. Using `Seq.maxBy fst` we get the most recent available value.\n",
"\n",
"## Using World Bank data asynchronously\n",
"\n",
"If you need to download large amounts of data or run the operation without\n",
"blocking the caller, then you probably want to use F# asynchronous workflows to perform\n",
"the operation. The FSharp.Data package also provides the `WorldBankDataProvider` type which takes\n",
"a number of static parameters. If the `Asynchronous` parameter is set to `true` then the\n",
"type provider generates all operations as asynchronous:\n"]
          }
,
          {
           "cell_type": "code",
           "metadata": {},
            "execution_count": 3, "outputs": [], 
           "source": ["type WorldBank = WorldBankDataProvider\u003c\"World Development Indicators\", Asynchronous=true\u003e\n",
"WorldBank.GetDataContext()\n"]
          }
,
          {
           "cell_type": "markdown",
           "metadata": {},
           
           "source": ["The above snippet specified \"World Development Indicators\" as the name of the data \n",
"source (a collection of commonly available indicators) and it set the optional argument\n",
"`Asynchronous` to `true`. As a result, properties such as \n",
"`Gross capital formation (% of GDP)` will now have a type `Async\u003c(int * int)[]\u003e` meaning\n",
"that they represent an asynchronous computation that can be started and will eventually\n",
"produce the data.\n",
"\n",
"### Downloading data in parallel\n",
"\n",
"To demonstrate the asynchronous version of the type provider, let\u0027s write code that\n",
"downloads the university enrollment data about a number of countries in parallel.\n",
"We first create a data context and then define an array with some countries we want to \n",
"process:\n"]
          }
,
          {
           "cell_type": "code",
           "metadata": {},
            "execution_count": 4, "outputs": [], 
           "source": ["let wb = WorldBank.GetDataContext()\n",
"\n",
"// Create a list of countries to process\n",
"let countries = \n",
" [| wb.Countries.``Arab World``\n",
"    wb.Countries.``European Union``\n",
"    wb.Countries.Australia\n",
"    wb.Countries.Brazil\n",
"    wb.Countries.Canada\n",
"    wb.Countries.Chile\n",
"    wb.Countries.``Czech Republic``\n",
"    wb.Countries.Denmark\n",
"    wb.Countries.France\n",
"    wb.Countries.Greece\n",
"    wb.Countries.``Low income``\n",
"    wb.Countries.``High income``\n",
"    wb.Countries.``United Kingdom``\n",
"    wb.Countries.``United States`` |]\n"]
          }
,
          {
           "cell_type": "markdown",
           "metadata": {},
           
           "source": ["To download the information in parallel, we can create a list of asynchronous \n",
"computations, compose them using `Async.Parallel` and then run the (single) obtained \n",
"computation to perform all the downloads:\n"]
          }
,
          {
           "cell_type": "code",
           "metadata": {},
            "execution_count": 5, "outputs": [], 
           "source": ["[ for c in countries -\u003e\n",
"    c.Indicators.``Gross capital formation (% of GDP)`` ]\n",
"|\u003e Async.Parallel\n",
"|\u003e Async.RunSynchronously\n"]
          }
,
          {
           "cell_type": "markdown",
           "metadata": {},
           
           "source": ["## Related articles\n",
"\n",
" * API Reference: `cref:T:FSharp.Data.WorldBankDataProvider` type provider\n",
"\n"]
          }],
            "metadata": {
            "kernelspec": {"display_name": ".NET (F#)", "language": "F#", "name": ".net-fsharp"},
            "langauge_info": {
        "file_extension": ".fs",
        "mimetype": "text/x-fsharp",
        "name": "C#",
        "pygments_lexer": "fsharp",
        "version": "4.5"
        }
        },
            "nbformat": 4,
            "nbformat_minor": 1
        }
        

