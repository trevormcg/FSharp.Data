
        {
            "cells": [
          {
           "cell_type": "markdown",
           "metadata": {},
           
           "source": ["// can\u0027t yet format YamlFrontmatter ([\"category: Utilities\"; \"categoryindex: 1\"; \"index: 3\"], Some { StartLine = 2 StartColumn = 0 EndLine = 5 EndColumn = 8 }) to pynb markdown\n",
"\n"]
          }
,
          {
           "cell_type": "code",
           "metadata": {},
            "execution_count": null, "outputs": [], 
           "source": ["#r \"nuget: FSharp.Data,4.1.1\"\n",
"\n",
"Formatter.SetPreferredMimeTypeFor(typeof\u003cobj\u003e, \"text/plain\")\n",
"Formatter.Register(fun (x:obj) (writer: TextWriter) -\u003e fprintfn writer \"%120A\" x )\n"]
          }
,
          {
           "cell_type": "markdown",
           "metadata": {},
           
           "source": ["[![Binder](../img/badge-binder.svg)](https://mybinder.org/v2/gh/diffsharp/diffsharp.github.io/master?filepath=library/HtmlParser.ipynb)\u0026emsp;\n",
"[![Script](../img/badge-script.svg)](library/HtmlParser.fsx)\u0026emsp;\n",
"[![Notebook](../img/badge-notebook.svg)](library/HtmlParser.ipynb)\n",
"\n",
"# HTML Parser\n",
"\n",
"This article demonstrates how to use the HTML Parser to parse HTML files.\n",
"\n",
"The HTML parser takes any fragment of HTML, uri or a stream and trys to parse it into a DOM. \n",
"The parser is based on the [HTML Living Standard](http://www.whatwg.org/specs/web-apps/current-work/multipage/index.html#contents)\n",
"Once a document/fragment has been parsed, a set of extension methods over the HTML DOM elements allow you to extract information from a web page\n",
"independently of the actual HTML Type provider.\n"]
          }
,
          {
           "cell_type": "code",
           "metadata": {},
            "execution_count": 2, "outputs": [], 
           "source": ["open FSharp.Data\n"]
          }
,
          {
           "cell_type": "markdown",
           "metadata": {},
           
           "source": ["The following example uses Google to search for `FSharp.Data` then parses the first set of\n",
"search results from the page, extracting the URL and Title of the link.\n",
"We use the `cref:T:FSharp.Data.HtmlDocument` type.\n",
"\n",
"To achieve this we must first parse the webpage into our DOM. We can do this using\n",
"the `cref:M:FSharp.Data.HtmlDocument.Load` method. This method will take a URL and make a synchronous web call\n",
"to extract the data from the page. Note: an asynchronous variant `cref:M:FSharp.Data.HtmlDocument.AsyncLoad` is also available  \n"]
          }
,
          {
           "cell_type": "code",
           "metadata": {},
            "execution_count": 3, "outputs": [], 
           "source": ["let results = HtmlDocument.Load(\"http://www.google.co.uk/search?q=FSharp.Data\")\n"]
          }
,
          {
           "cell_type": "markdown",
           "metadata": {},
           
           "source": ["Now that we have a loaded HTML document we can begin to extract data from it. \n",
"Firstly we want to extract all of the anchor tags `a` out of the document, then\n",
"inspect the links to see if it has a `href` attribute, using `cref:M:FSharp.Data.HtmlDocumentExtensions.Descendants`. If it does, extract the value,\n",
"which in this case is the url that the search result is pointing to, and additionally the \n",
"`InnerText` of the anchor tag to provide the name of the web page for the search result\n",
"we are looking at. \n"]
          }
,
          {
           "cell_type": "code",
           "metadata": {},
            "execution_count": 4, "outputs": [], 
           "source": ["let links = \n",
"    results.Descendants [\"a\"]\n",
"    |\u003e Seq.choose (fun x -\u003e \n",
"           x.TryGetAttribute(\"href\")\n",
"           |\u003e Option.map (fun a -\u003e x.InnerText(), a.Value())\n",
"    )\n",
"    |\u003e Seq.toList\n"]
          }
,
          {
           "cell_type": "markdown",
           "metadata": {},
           
           "source": ["Now that we have extracted our search results you will notice that there are lots of\n",
"other links to various Google services and cached/similar results. Ideally we would \n",
"like to filter these results as we are probably not interested in them.\n",
"At this point we simply have a sequence of Tuples, so F# makes this trivial using `Seq.filter`\n",
"and `Seq.map`.\n"]
          }
,
          {
           "cell_type": "code",
           "metadata": {},
            "execution_count": 5, "outputs": [], 
           "source": ["let searchResults =\n",
"    links\n",
"    |\u003e List.filter (fun (name, url) -\u003e \n",
"                    name \u003c\u003e \"Cached\" \u0026\u0026 name \u003c\u003e \"Similar\" \u0026\u0026 url.StartsWith(\"/url?\"))\n",
"    |\u003e List.map (fun (name, url) -\u003e name, url.Substring(0, url.IndexOf(\"\u0026sa=\")).Replace(\"/url?q=\", \"\"))\n"]
          }
,
          {
           "cell_type": "markdown",
           "metadata": {},
           
           "source": ["Putting this all together yields the following:\n",
"```\n",
"[(\"FSharp.Data: Data Access Made Simplefsprojects.github.io › FSharp\",\n",
"  \"https://fsprojects.github.io/FSharp.Data/\");\n",
" (\"fsprojects/FSharp.Data: F# Data: Library for Data Access - GitHubgithub.com › fsprojects › FSharp\",\n",
"  \"https://github.com/fsprojects/FSharp.Data/\");\n",
" (\"FSharp.Data 4.1.1 - NuGet Gallerywww.nuget.org › packages › FSharp\",\n",
"  \"https://www.nuget.org/packages/FSharp.Data\");\n",
" (\"Guide - Data Access | The F# Software Foundation - FSharp.orgfsharp.org › guides › data-access\",\n",
"  \"https://fsharp.org/guides/data-access/\");\n",
" (\"Guide - Data Science | The F# Software Foundation - FSharp.orgfsharp.org › guides › data-science\",\n",
"  \"https://fsharp.org/guides/data-science/\");\n",
" (\"Type Providers - F# | Microsoft Docsdocs.microsoft.com › Docs › .NET › F# guide\",\n",
"  \"https://docs.microsoft.com/en-us/dotnet/fsharp/tutorials/type-providers/\");\n",
" (\"Is the FSharp.Data XML type provider generative or not? - Stack ...stackoverflow.com › questions › is-the-fsharp-data-xml-type-provider-gen...\",\n",
"  \"https://stackoverflow.com/questions/65465265/is-the-fsharp-data-xml-type-provider-generative-or-not\");\n",
" (\"wsdlprovider - FSharp.Data.WsdlProvider 0.7.0-alpha | MyGetwww.myget.org › feed › wsdlprovider › package › nuget › FSharp.Data.W...\",\n",
"  \"https://www.myget.org/feed/wsdlprovider/package/nuget/FSharp.Data.WsdlProvider\");\n",
" (\"F# Data Type Providers in .Net Core - Luke Merrettlukemerrett.com › fsharp-data-type-providers\",\n",
"  \"https://lukemerrett.com/fsharp-data-type-providers/\");\n",
" (\"Introduction to F# Type Providers | TheSharperDevthesharperdev.com › introduction-to-fsharp-type-providers\",\n",
"  \"https://thesharperdev.com/introduction-to-fsharp-type-providers/\");\n",
" (\"Learn more\",\n",
"  \"http://support.google.com/websearch%3Fp%3Dws_settings_location%26hl%3Den\");\n",
" (\"Sign in\",\n",
"  \"https://accounts.google.com/ServiceLogin%3Fcontinue%3Dhttp://www.google.co.uk/search%253Fq%253DFSharp.Data%26hl%3Den\")]\n",
"```\n",
"\n"]
          }],
            "metadata": {
            "kernelspec": {"display_name": ".NET (F#)", "language": "F#", "name": ".net-fsharp"},
            "langauge_info": {
        "file_extension": ".fs",
        "mimetype": "text/x-fsharp",
        "name": "C#",
        "pygments_lexer": "fsharp",
        "version": "4.5"
        }
        },
            "nbformat": 4,
            "nbformat_minor": 1
        }
        

