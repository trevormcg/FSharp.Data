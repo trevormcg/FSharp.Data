
        {
            "cells": [
          {
           "cell_type": "markdown",
           "metadata": {},
           
           "source": ["// can\u0027t yet format YamlFrontmatter ([\"category: Type Providers\"; \"categoryindex: 1\"; \"index: 3\"], Some { StartLine = 2 StartColumn = 0 EndLine = 5 EndColumn = 8 }) to pynb markdown\n",
"\n"]
          }
,
          {
           "cell_type": "code",
           "metadata": {},
            "execution_count": null, "outputs": [], 
           "source": ["#r \"nuget: FSharp.Data,4.1.1\"\n",
"\n",
"Formatter.SetPreferredMimeTypeFor(typeof\u003cobj\u003e, \"text/plain\")\n",
"Formatter.Register(fun (x:obj) (writer: TextWriter) -\u003e fprintfn writer \"%120A\" x )\n"]
          }
,
          {
           "cell_type": "markdown",
           "metadata": {},
           
           "source": ["[![Binder](../img/badge-binder.svg)](https://mybinder.org/v2/gh/diffsharp/diffsharp.github.io/master?filepath=library/JsonProvider.ipynb)\u0026emsp;\n",
"[![Script](../img/badge-script.svg)](library/JsonProvider.fsx)\u0026emsp;\n",
"[![Notebook](../img/badge-notebook.svg)](library/JsonProvider.ipynb)\n",
"\n",
"# JSON Type Provider\n",
"\n",
"This article demonstrates how to use the JSON Type Provider to access JSON files\n",
"in a statically typed way. We first look at how the structure is inferred and then \n",
"demonstrate the provider by parsing data from WorldBank and Twitter.\n",
"\n",
"The JSON Type Provider provides statically typed access to JSON documents.\n",
"It takes a sample document as an input (or a document containing a JSON array of samples).\n",
"The generated type can then be used to read files with the same structure. If the \n",
"loaded file does not match the structure of the sample, a runtime error may occur \n",
"(but only when accessing e.g. non-existing element).\n",
"\n",
"## Introducing the provider\n",
"\n",
"\n",
"\u003cdiv class=\"container-fluid\" style=\"margin:15px 0px 15px 0px;\"\u003e\n",
"\u003cdiv class=\"container-fluid\" style=\"margin:15px 0px 15px 0px;\"\u003e\n",
"    \u003cdiv class=\"row-fluid\"\u003e\n",
"        \u003cdiv class=\"span1\"\u003e\u003c/div\u003e\n",
"        \u003cdiv class=\"span10\" id=\"anim-holder\"\u003e\n",
"            \u003ca id=\"lnk\" href=\"../images/json.gif\"\u003e\u003cimg id=\"anim\" src=\"../images/json.gif\" /\u003e\u003c/a\u003e\n",
"        \u003c/div\u003e\n",
"        \u003cdiv class=\"span1\"\u003e\u003c/div\u003e\n",
"    \u003c/div\u003e\n",
"\u003c/div\u003e\n",
"\n",
"The type provider is located in the `FSharp.Data.dll` assembly and namespace: \n"]
          }
,
          {
           "cell_type": "code",
           "metadata": {},
            "execution_count": 2, "outputs": [], 
           "source": ["open FSharp.Data\n"]
          }
,
          {
           "cell_type": "markdown",
           "metadata": {},
           
           "source": ["### Inferring types from the sample\n",
"\n",
"The `JsonProvider\u003c...\u003e` takes one static parameter of type `string`. The parameter can \n",
"be _either_ a sample string _or_ a sample file (relative to the current folder or online \n",
"accessible via `http` or `https`). It is not likely that this could lead to ambiguities. \n",
"\n",
"The following sample passes a small JSON string to the provider:\n"]
          }
,
          {
           "cell_type": "code",
           "metadata": {},
            "execution_count": 3, "outputs": [], 
           "source": ["type Simple = JsonProvider\u003c\"\"\" { \"name\":\"John\", \"age\":94 } \"\"\"\u003e\n",
"let simple = Simple.Parse(\"\"\" { \"name\":\"Tomas\", \"age\":4 } \"\"\")\n",
"simple.Age\n",
"simple.Name\n"]
          }
,
          {
           "cell_type": "markdown",
           "metadata": {},
           
           "source": ["You can see that the generated type has two properties - `Age` of type `int` and `Name` of\n",
"type `string`. The provider successfully infers the types from the sample and exposes the\n",
"fields as properties (with PascalCase name to follow standard naming conventions).\n",
"\n",
"\n",
"### Inferring numeric types\n",
"\n",
"In the previous case, the sample document simply contained an integer and so the provider\n",
"inferred the type `int`. Sometimes, the types in the sample document (or a list of samples) \n",
"may not match exactly. For example, a list may mix integers and floats:\n"]
          }
,
          {
           "cell_type": "code",
           "metadata": {},
            "execution_count": 4, "outputs": [], 
           "source": ["type Numbers = JsonProvider\u003c\"\"\" [1, 2, 3, 3.14] \"\"\"\u003e\n",
"let nums = Numbers.Parse(\"\"\" [1.2, 45.1, 98.2, 5] \"\"\")\n",
"let total = nums |\u003e Seq.sum\n"]
          }
,
          {
           "cell_type": "markdown",
           "metadata": {},
           
           "source": ["When the sample is a collection, the type provider generates a type that can be used to store\n",
"all values in the sample. In this case, the resulting type is `decimal`, because one\n",
"of the values is not an integer. In general, the provider supports (and prefers them \n",
"in this order): `int`, `int64`, `decimal` and `float`.\n",
"\n",
"Other primitive types cannot be combined into a single type. For example, if the list contains\n",
"numbers _and_ strings. In this case, the provider generates two methods that can be used\n",
"to get values that match one of the types:\n"]
          }
,
          {
           "cell_type": "code",
           "metadata": {},
            "execution_count": 5, "outputs": [], 
           "source": ["type Mixed = JsonProvider\u003c\"\"\" [1, 2, \"hello\", \"world\"] \"\"\"\u003e\n",
"let mixed = Mixed.Parse(\"\"\" [4, 5, \"hello\", \"world\" ] \"\"\")\n",
"\n",
"mixed.Numbers |\u003e Seq.sum\n",
"mixed.Strings |\u003e String.concat \", \"\n"]
          }
,
          {
           "cell_type": "markdown",
           "metadata": {},
           
           "source": ["As you can see, the `Mixed` type has properties `Numbers` and `Strings` that \n",
"return only `int` and `string` values from the collection. This means that we get \n",
"type-safe access to the values, but not in the original order (if order matters, then\n",
"you can use the `mixed.JsonValue` property to get the underlying `JsonValue` and \n",
"process it dynamically as described in [the documentation for `JsonValue`](JsonValue.html).\n",
"\n",
"### Inferring record types\n",
"\n",
"Now let\u0027s look at a sample JSON document that contains a list of records. The\n",
"following example uses two records - one with `name` and `age` and the second with just\n",
"`name`. If a property is missing, then the provider infers it as optional.\n",
"\n",
"If we want to just use the same text used for the schema at runtime, we can use the `GetSamples` method:\n"]
          }
,
          {
           "cell_type": "code",
           "metadata": {},
            "execution_count": 6, "outputs": [], 
           "source": ["type People = JsonProvider\u003c\"\"\" \n",
"  [ { \"name\":\"John\", \"age\":94 }, \n",
"    { \"name\":\"Tomas\" } ] \"\"\"\u003e\n",
"\n",
"for item in People.GetSamples() do \n",
"  printf \"%s \" item.Name \n",
"  item.Age |\u003e Option.iter (printf \"(%d)\")\n",
"  printfn \"\"\n"]
          }
,
          {
           "cell_type": "markdown",
           "metadata": {},
           
           "source": ["The inferred type for `items` is a collection of (anonymous) JSON entities - each entity\n",
"has properties `Name` and `Age`. As `Age` is not available for all records in the sample\n",
"data set, it is inferred as `option\u003cint\u003e`. The above sample uses `Option.iter` to print\n",
"the value only when it is available.\n",
"\n",
"In the previous case, the values of individual properties had common types - `string` \n",
"for the `Name` property and numeric type for `Age`. However, what if the property of\n",
"a record can have multiple different types? In that case, the type provider behaves\n",
"as follows: \n"]
          }
,
          {
           "cell_type": "code",
           "metadata": {},
            "execution_count": 7, "outputs": [], 
           "source": ["type Values = JsonProvider\u003c\"\"\" [{\"value\":94 }, {\"value\":\"Tomas\" }] \"\"\"\u003e\n",
"\n",
"for item in Values.GetSamples() do \n",
"  match item.Value.Number, item.Value.String with\n",
"  | Some num, _ -\u003e printfn \"Numeric: %d\" num\n",
"  | _, Some str -\u003e printfn \"Text: %s\" str\n",
"  | _ -\u003e printfn \"Some other value!\"\n"]
          }
,
          {
           "cell_type": "markdown",
           "metadata": {},
           
           "source": ["Here, the `Value` property is either a number or a string, The type provider generates\n",
"a type that has an optional property for each possible option, so we can use \n",
"simple pattern matching on `option\u003cint\u003e` and `option\u003cstring\u003e` values to distinguish\n",
"between the two options. This is similar to the handling of heterogeneous arrays.\n",
"\n",
"Note that we have a `GetSamples` method because the sample is a JSON list. If it was a JSON\n",
"object, we would have a `GetSample` method instead.\n",
"\n",
"#### More complex object type on root level\n",
"\n",
"If you want the root type to be an object type, not an array, but\n",
"you need more samples at root level, you can use the SampleIsList parameter.\n",
"Applied to the previous example this would be:\n",
"\n"]
          }
,
          {
           "cell_type": "code",
           "metadata": {},
            "execution_count": 8, "outputs": [], 
           "source": ["type People2 = JsonProvider\u003c\"\"\" \n",
"  [ { \"name\":\"John\", \"age\":94 }, \n",
"    { \"name\":\"Tomas\" } ] \"\"\", SampleIsList=true\u003e\n",
"\n",
"let person = People2.Parse(\"\"\"{ \"name\":\"Gustavo\" }\"\"\")\n"]
          }
,
          {
           "cell_type": "markdown",
           "metadata": {},
           
           "source": ["## Loading WorldBank data\n",
"\n",
"Now let\u0027s use the type provider to process some real data. We use a data set returned by \n",
"[the WorldBank](http://data.worldbank.org), which has (roughly) the following structure:\n",
"\n",
"    [lang=js]\n",
"    [ { \"page\": 1, \"pages\": 1, \"total\": 53 },\n",
"      [ { \"indicator\": {\"value\": \"Central government debt, total (% of GDP)\"},\n",
"          \"country\": {\"id\":\"CZ\",\"value\":\"Czech Republic\"},\n",
"          \"value\":null,\"decimal\":\"1\",\"date\":\"2000\"},\n",
"        { \"indicator\": {\"value\": \"Central government debt, total (% of GDP)\"},\n",
"          \"country\": {\"id\":\"CZ\",\"value\":\"Czech Republic\"},\n",
"          \"value\":\"16.6567773464055\",\"decimal\":\"1\",\"date\":\"2010\"} ] ]\n",
"\n",
"The response to a request contains an array with two items. The first item is a record\n",
"with general information about the response (page, total pages, etc.) and the second item\n",
"is another array which contains the actual data points. For every data point, we get\n",
"some information and the actual `value`. Note that the `value` is passed as a string \n",
"(for some unknown reason). It is wrapped in quotes, so the provider infers its type as\n",
"`string` (and we need to convert it manually).\n",
"\n",
"The following sample generates type based on the [`data/WorldBank.json`](../data/WorldBank.json) \n",
"file and loads it:\n"]
          }
,
          {
           "cell_type": "code",
           "metadata": {},
            "execution_count": 9, "outputs": [], 
           "source": ["type WorldBank = JsonProvider\u003c\"../data/WorldBank.json\", ResolutionFolder=__SOURCE_DIRECTORY__\u003e\n",
"let doc = WorldBank.GetSample()\n"]
          }
,
          {
           "cell_type": "markdown",
           "metadata": {},
           
           "source": ["Note that we can also load the data directly from the web both in the `Load` method and in\n",
"the type provider sample parameter, and there\u0027s an asynchronous `AsyncLoad` method available too: \n"]
          }
,
          {
           "cell_type": "code",
           "metadata": {},
            "execution_count": 10, "outputs": [], 
           "source": ["let wbReq = \n",
"  \"http://api.worldbank.org/country/cz/indicator/\" + \n",
"    \"GC.DOD.TOTL.GD.ZS?format=json\"\n",
"\n",
"let docAsync = \n",
"  WorldBank.AsyncLoad(wbReq)\n"]
          }
,
          {
           "cell_type": "markdown",
           "metadata": {},
           
           "source": ["The `doc` is an array of heterogeneous types, so the provider generates a type\n",
"that can be used to get the record and the array, respectively. Note that the \n",
"provider infers that there is only one record and one array. We can print the data set as follows:\n"]
          }
,
          {
           "cell_type": "code",
           "metadata": {},
            "execution_count": 11, "outputs": [], 
           "source": ["// Print general information\n",
"let info = doc.Record\n",
"printfn \"Showing page %d of %d. Total records %d\" \n",
"  info.Page info.Pages info.Total\n",
"\n",
"// Print all data points\n",
"for record in doc.Array do\n",
"  record.Value |\u003e Option.iter (fun value -\u003e\n",
"    printfn \"%d: %f\" record.Date value)\n"]
          }
,
          {
           "cell_type": "markdown",
           "metadata": {},
           
           "source": ["When printing the data points, some of the values might be missing (in the input, the value\n",
"is `null` instead of a valid number). This is another example of a heterogeneous type - \n",
"the type is either `Number` or some other type (representing `null` value). This means\n",
"that `record.Value` has a `Number` property (when the value is a number) and we can use\n",
"it to print the result only when the data point is available.\n",
"\n",
"## Parsing Twitter stream\n",
"\n",
"We now look on how to parse tweets returned by the [Twitter API](http://dev.twitter.com/).\n",
"Tweets are quite heterogeneous, so we infer the structure from a _list_ of inputs rather than from \n",
"just a single input. To do that, we use the file [`data/TwitterStream.json`](../data/TwitterStream.json) \n",
"(containing a list of tweets) and pass an optional parameter `SampleIsList=true` which tells the \n",
"provider that the sample is actually a _list of samples_:\n",
"\n"]
          }
,
          {
           "cell_type": "code",
           "metadata": {},
            "execution_count": 12, "outputs": [], 
           "source": ["type Tweet = JsonProvider\u003c\"../data/TwitterStream.json\", SampleIsList=true, ResolutionFolder=__SOURCE_DIRECTORY__\u003e\n",
"let text = (*[omit:(omitted)]*)\"\"\" {\"in_reply_to_status_id_str\":null,\"text\":\"\\u5927\\u91d1\\u6255\\u3063\\u3066\\u904a\\u3070\\u3057\\u3066\\u3082\\u3089\\u3046\\u3002\\u3082\\u3046\\u3053\\u306e\\u4e0a\\u306a\\u3044\\u8d05\\u6ca2\\u3002\\u3067\\u3082\\uff0c\\u5b9f\\u969b\\u306b\\u306f\\u305d\\u306e\\u8d05\\u6ca2\\u306e\\u672c\\u8cea\\u3092\\u6e80\\u55ab\\u3067\\u304d\\u308b\\u4eba\\u306f\\u9650\\u3089\\u308c\\u3066\\u308b\\u3002\\u305d\\u3053\\u306b\\u76ee\\u306b\\u898b\\u3048\\u306a\\u3044\\u968e\\u5c64\\u304c\\u3042\\u308b\\u3068\\u304a\\u3082\\u3046\\u3002\",\"in_reply_to_user_id_str\":null,\"retweet_count\":0,\"geo\":null,\"source\":\"web\",\"retweeted\":false,\"truncated\":false,\"id_str\":\"263290764686155776\",\"entities\":{\"user_mentions\":[],\"hashtags\":[],\"urls\":[]},\"in_reply_to_user_id\":null,\"in_reply_to_status_id\":null,\"place\":null,\"coordinates\":null,\"in_reply_to_screen_name\":null,\"created_at\":\"Tue Oct 30 14:46:24 +0000 2012\",\"user\":{\"notifications\":null,\"contributors_enabled\":false,\"time_zone\":\"Tokyo\",\"profile_background_color\":\"FFFFFF\",\"location\":\"Kodaira Tokyo Japan\",\"profile_background_tile\":false,\"profile_image_url_https\":\"https:\\/\\/si0.twimg.com\\/profile_images\\/1172376796\\/70768_100000537851636_3599485_q_normal.jpg\",\"default_profile_image\":false,\"follow_request_sent\":null,\"profile_sidebar_fill_color\":\"17451B\",\"description\":\"KS(Green62)\\/WasedaUniv.(Schl Adv Sci\\/Eng)\\/SynBio\\/ChronoBio\\/iGEM2010-2012\\/Travel\\/Airplane\\/ \\u5bfa\\u30fb\\u5ead\\u3081\\u3050\\u308a\",\"favourites_count\":17,\"screen_name\":\"Merlin_wand\",\"profile_sidebar_border_color\":\"000000\",\"id_str\":\"94788486\",\"verified\":false,\"lang\":\"ja\",\"statuses_count\":8641,\"profile_use_background_image\":true,\"protected\":false,\"profile_image_url\":\"http:\\/\\/a0.twimg.com\\/profile_images\\/1172376796\\/70768_100000537851636_3599485_q_normal.jpg\",\"listed_count\":31,\"geo_enabled\":true,\"created_at\":\"Sat Dec 05 13:07:32 +0000 2009\",\"profile_text_color\":\"000000\",\"name\":\"Marin\",\"profile_background_image_url\":\"http:\\/\\/a0.twimg.com\\/profile_background_images\\/612807391\\/twitter_free1.br.jpg\",\"friends_count\":629,\"url\":null,\"id\":94788486,\"is_translator\":false,\"default_profile\":false,\"following\":null,\"profile_background_image_url_https\":\"https:\\/\\/si0.twimg.com\\/profile_background_images\\/612807391\\/twitter_free1.br.jpg\",\"utc_offset\":32400,\"profile_link_color\":\"ADADAD\",\"followers_count\":426},\"id\":263290764686155776,\"contributors\":null,\"favorited\":false} \"\"\"(*[/omit]*)\n",
"let tweet = Tweet.Parse(text)\n",
"\n",
"printfn \"%s (retweeted %d times)\\n:%s\"\n",
"  tweet.User.Value.Name tweet.RetweetCount.Value tweet.Text.Value\n"]
          }
,
          {
           "cell_type": "markdown",
           "metadata": {},
           
           "source": ["After creating the `Tweet` type, we parse a single sample tweet and print some details about the\n",
"tweet. As you can see, the `tweet.User` property has been inferred as optional (meaning that a \n",
"tweet might not have an author?) so we unsafely get the value using the `Value` property.\n",
"The `RetweetCount` and `Text` properties may be also missing, so we also access them unsafely.\n",
"\n",
"## Getting and creating GitHub issues\n",
"\n",
"In this example we will now also create JSON in addition to consuming it.\n",
"Let\u0027s start by listing the 5 most recently updated open issues in the FSharp.Data repo.\n",
"\n"]
          }
,
          {
           "cell_type": "code",
           "metadata": {},
            "execution_count": 13, "outputs": [], 
           "source": ["// GitHub.json downloaded from \n",
"// https://api.github.com/repos/fsharp/FSharp.Data/issues \n",
"// to prevent rate limit when generating these docs\n",
"type GitHub = JsonProvider\u003c\"../data/GitHub.json\", ResolutionFolder=__SOURCE_DIRECTORY__\u003e\n",
"\n",
"let topRecentlyUpdatedIssues = \n",
"    GitHub.GetSamples()\n",
"    |\u003e Seq.filter (fun issue -\u003e issue.State = \"open\")\n",
"    |\u003e Seq.sortBy (fun issue -\u003e System.DateTimeOffset.Now - issue.UpdatedAt)\n",
"    |\u003e Seq.truncate 5\n",
"\n",
"for issue in topRecentlyUpdatedIssues do\n",
"    printfn \"#%d %s\" issue.Number issue.Title\n"]
          }
,
          {
           "cell_type": "markdown",
           "metadata": {},
           
           "source": ["And now let\u0027s create a new issue. We look into the documentation at http://developer.github.com/v3/issues/#create-an-issue and we see that\n",
"we need to post a JSON value similar to this:\n",
"\n"]
          }
,
          {
           "cell_type": "code",
           "metadata": {},
            "execution_count": 14, "outputs": [], 
           "source": ["[\u003cLiteral\u003e]\n",
"let issueSample = \"\"\"\n",
"{\n",
"  \"title\": \"Found a bug\",\n",
"  \"body\": \"I\u0027m having a problem with this.\",\n",
"  \"assignee\": \"octocat\",\n",
"  \"milestone\": 1,\n",
"  \"labels\": [\n",
"    \"Label1\",\n",
"    \"Label2\"\n",
"  ]\n",
"}\n",
"\"\"\"\n"]
          }
,
          {
           "cell_type": "markdown",
           "metadata": {},
           
           "source": ["This JSON is different from what we got for each issue in the previous API call, so we\u0027ll define a new type based on this sample,\n",
"create an instance, and send a POST request:\n",
"\n"]
          }
,
          {
           "cell_type": "code",
           "metadata": {},
            "execution_count": null, "outputs": [], 
           "source": ["type GitHubIssue = JsonProvider\u003cissueSample, RootName=\"issue\"\u003e\n",
"\n",
"let newIssue = \n",
"  GitHubIssue.Issue\n",
"    ( \"Test issue\",\n",
"      \"This is a test issue created in FSharp.Data documentation\", \n",
"      assignee = \"\",\n",
"      labels = [| |], \n",
"      milestone = 0)\n",
"newIssue.JsonValue.Request \"https://api.github.com/repos/fsharp/FSharp.Data/issues\"\n"]
          }
,
          {
           "cell_type": "markdown",
           "metadata": {},
           
           "source": ["\u003ca name=\"jsonlib\"\u003e\u003c/a\u003e\n",
"\u003ca name=\"jsonlib\"\u003e\u003c/a\u003e\n",
"## Using JSON provider in a library\n",
"\n",
"You can use the types created by JSON type provider in a public API of a library that you are building,\n",
"but there is one important thing to keep in mind - when the user references your library, the type\n",
"provider will be loaded and the types will be generated at that time (the JSON provider is not\n",
"currently a _generative_ type provider). This means that the type provider will need to be able to\n",
"access the sample JSON. This works fine when the sample is specified inline, but it won\u0027t work when\n",
"the sample is specified as a local file (unless you distribute the samples with your library).\n",
"\n",
"For this reason, the JSON provider lets you specify samples as embedded resources using the \n",
"static parameter `EmbeddedResource` (don\u0027t forget then to [include the file](https://docs.microsoft.com/en-us/visualstudio/ide/build-actions) as EmbeddedResource in the\n",
"project file). If you are building a library `MyLib.dll`, you can write:\n",
"\n"]
          }
,
          {
           "cell_type": "code",
           "metadata": {},
            "execution_count": 15, "outputs": [], 
           "source": ["type WB = JsonProvider\u003c\"../data/WorldBank.json\", \n",
"                       EmbeddedResource=\"MyLib, MyLib.data.worldbank.json\",\n",
"                       ResolutionFolder=__SOURCE_DIRECTORY__\u003e\n"]
          }
,
          {
           "cell_type": "markdown",
           "metadata": {},
           
           "source": ["You still need to specify the local path, but this is only used when compiling `MyLib.dll`. \n",
"When a user of your library references `MyLib.dll` later, the JSON Type Provider will be able\n",
"to load `MyLib.dll` and locate the sample `worldbank.json` as a resource of the library. When\n",
"this succeeds, it does not attempt to find the local file and so your library can be used\n",
"without providing a local copy of the sample JSON files.\n",
"\n",
"## Related articles\n",
"\n",
" * [JSON Parser](JsonValue.html) - provides more information about \n",
"   working with JSON values dynamically.\n",
" * API Reference: `cref:T:FSharp.Data.JsonProvider`\n",
" * API Reference: `cref:T:FSharp.Data.JsonValue`\n",
"\n"]
          }],
            "metadata": {
            "kernelspec": {"display_name": ".NET (F#)", "language": "F#", "name": ".net-fsharp"},
            "langauge_info": {
        "file_extension": ".fs",
        "mimetype": "text/x-fsharp",
        "name": "C#",
        "pygments_lexer": "fsharp",
        "version": "4.5"
        }
        },
            "nbformat": 4,
            "nbformat_minor": 1
        }
        

