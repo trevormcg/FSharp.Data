
        {
            "cells": [
          {
           "cell_type": "code",
           "metadata": {},
            "execution_count": null, "outputs": [], 
           "source": ["#r \"nuget: FSharp.Data,4.1.1\"\n",
"\n",
"Formatter.SetPreferredMimeTypeFor(typeof\u003cobj\u003e, \"text/plain\")\n",
"Formatter.Register(fun (x:obj) (writer: TextWriter) -\u003e fprintfn writer \"%120A\" x )\n"]
          }
,
          {
           "cell_type": "markdown",
           "metadata": {},
           
           "source": ["# XML 型プロバイダー\n",
"\n",
"このドキュメントではXML型プロバイダーを使用して、静的に型付けされた\n",
"方法でXMLドキュメントにアクセスする方法について説明します。\n",
"まず、XMLドキュメントの構造が推測される方法について説明した後に、\n",
"XML型プロバイダーを使用してRSSフィードを解析するデモを紹介します。\n",
"\n",
"ML型プロバイダーを使用すると、静的に型付けされた方法でXMLドキュメントに\n",
"アクセスできます。\n",
"このプロバイダーはサンプルとなるドキュメントを入力として受け取ります\n",
"(あるいはサンプルとして使用されるような複数の子ノードを持った\n",
"ルートXMLノードを含むドキュメントを受け取ります)。\n",
"そして生成された型を使用すると、サンプルドキュメントと同じ構造のファイルを\n",
"読み取ることができるようになります。\n",
"ファイルの構造がサンプルと異なる場合には実行時エラーが発生します\n",
"(ただし存在しない要素にアクセスしようとした場合に限られます)。\n",
"\n",
"## プロバイダーの基本\n",
"\n",
"型プロバイダーは `FSharp.Data.dll` アセンブリ内にあります。\n",
"このアセンブリが `../../../../bin` ディレクトリにあると仮定すると、\n",
"F# Interactive内で読み込むためには以下のようにします\n",
"(なおこの型プロバイダーは内部で `XDocument` を使用しているため、\n",
"`System.Xml.Linq` への参照も必要になる点に注意してください)：\n"]
          }
,
          {
           "cell_type": "code",
           "metadata": {},
            "execution_count": 2, "outputs": [], 
           "source": ["#r \"System.Xml.Linq.dll\"\n",
"open FSharp.Data\n"]
          }
,
          {
           "cell_type": "markdown",
           "metadata": {},
           
           "source": ["### サンプルからの型の推論\n",
"\n",
"`XmlProvider\u003c...\u003e` には `string` 型の静的パラメータを1つ指定します。\n",
"このパラメータには **サンプルとなるXML文字列** または\n",
"**サンプルファイル** のいずれかを指定します\n",
"(カレントディレクトリからの相対パスか、 **http** または **https** 経由で\n",
"アクセス可能なファイル名を指定します)。\n",
"パラメータの値があいまいで認識できないようなケースはほとんど無いでしょう。\n",
"\n",
"以下のサンプルではルートノードに2つの属性を持ったXMLドキュメントを\n",
"読み取ることができるような型を生成しています：\n"]
          }
,
          {
           "cell_type": "code",
           "metadata": {},
            "execution_count": 3, "outputs": [], 
           "source": ["type Author = XmlProvider\u003c\"\"\"\u003cauthor name=\"Paul Feyerabend\" born=\"1924\" /\u003e\"\"\"\u003e\n",
"let sample = Author.Parse(\"\"\"\u003cauthor name=\"Karl Popper\" born=\"1902\" /\u003e\"\"\")\n",
"\n",
"printfn \"%s (%d)\" sample.Name sample.Born\n"]
          }
,
          {
           "cell_type": "markdown",
           "metadata": {},
           
           "source": ["型プロバイダーによって生成された型 `Author` には、XMLドキュメントの\n",
"ルート要素にある2つの属性と同じ名前のプロパティがあります。\n",
"プロパティの型はサンプルとして指定したドキュメントの値から推測されます。\n",
"今回の場合、 `Name` プロパティは `string` 型で\n",
"`Born` プロパティは `int` 型です。\n",
"\n",
"XMLは非常に柔軟な形式なので、同じドキュメントを異なる形式で表現できます。\n",
"具体的には属性を使用する代わりに、値を直接含むようなネストされたノードとして\n",
"表現できます( `\u003cauthor\u003e` 以下に `\u003cname\u003e` および `\u003cborn\u003e` をネストさせます)\n"]
          }
,
          {
           "cell_type": "code",
           "metadata": {},
            "execution_count": 4, "outputs": [], 
           "source": ["type AuthorAlt = XmlProvider\u003c\"\u003cauthor\u003e\u003cname\u003eKarl Popper\u003c/name\u003e\u003cborn\u003e1902\u003c/born\u003e\u003c/author\u003e\"\u003e\n",
"let doc = \"\u003cauthor\u003e\u003cname\u003ePaul Feyerabend\u003c/name\u003e\u003cborn\u003e1924\u003c/born\u003e\u003c/author\u003e\"\n",
"let sampleAlt = AuthorAlt.Parse(doc)\n",
"\n",
"printfn \"%s (%d)\" sampleAlt.Name sampleAlt.Born\n"]
          }
,
          {
           "cell_type": "markdown",
           "metadata": {},
           
           "source": ["生成された型を使用すると、同じ形式のドキュメントを読み取る場合には完全に同じAPIで\n",
"アクセスできるようになります（ただし1番目の形式を使用するサンプルを `AuthorAlt`\n",
"で解析することはできません。両者は単にpublic APIの形式が同じだけであって、\n",
"型の実装としてはそれぞれ別のものだからです）。\n",
"\n",
"この型プロバイダーはノードにプリミティブな値だけが含まれていて、子ノードも属性も\n",
"持たないような場合に限って、ノードを単純に型付けされたプロパティへと変換します。\n",
"\n",
"### さらに複雑な構造を持つドキュメントに対する型\n",
"\n",
"もう少し興味深い構造を持った例をいくつか見ていくことにしましょう。\n",
"まず、ノードが同じ値を持つものの、属性の値が異なる場合にはどうなるでしょうか？\n"]
          }
,
          {
           "cell_type": "code",
           "metadata": {},
            "execution_count": 5, "outputs": [], 
           "source": ["type Detailed = XmlProvider\u003c\"\"\"\u003cauthor\u003e\u003cname full=\"true\"\u003eKarl Popper\u003c/name\u003e\u003c/author\u003e\"\"\"\u003e\n",
"let info = Detailed.Parse(\"\"\"\u003cauthor\u003e\u003cname full=\"false\"\u003eThomas Kuhn\u003c/name\u003e\u003c/author\u003e\"\"\")\n",
"\n",
"printfn \"%s (full=%b)\" info.Name.Value info.Name.Full\n"]
          }
,
          {
           "cell_type": "markdown",
           "metadata": {},
           
           "source": ["ノードが( `string` のような)単純型として表現できない場合、\n",
"この型プロバイダーは複数のプロパティを持つような型を新しく作成します。\n",
"今回の場合、(属性の名前を元にして) `Full` というbool型のプロパティが生成されます。\n",
"次に要素のコンテンツを返すような、`Value` という(特別な)名前のプロパティが\n",
"追加されます。\n",
"\n",
"### 単純な要素を複数持つドキュメントに対する型\n",
"\n",
"もう1つ興味深い例として、プリミティブ値しか持たないような複数のノードが存在する\n",
"場合を考えてみましょう。\n",
"以下の例ではルートノード以下に複数の `\u003cvalue\u003e` ノードがあるドキュメントを\n",
"サンプルとして指定しています( `Parse` メソッドにパラメータを指定しなかった場合、\n",
"スキーマ用に指定したものと同じテキストが実行時の値に反映されます)。\n"]
          }
,
          {
           "cell_type": "code",
           "metadata": {},
            "execution_count": 6, "outputs": [], 
           "source": ["type Test = XmlProvider\u003c\"\u003croot\u003e\u003cvalue\u003e1\u003c/value\u003e\u003cvalue\u003e3\u003c/value\u003e\u003c/root\u003e\"\u003e\n",
"\n",
"Test.GetSample().Values\n",
"|\u003e Seq.iter (printfn \"%d\")\n"]
          }
,
          {
           "cell_type": "markdown",
           "metadata": {},
           
           "source": ["型パラメータは複数の値を配列として返すような `Values` メソッドを生成します。\n",
"`\u003cvalue\u003e` ノードは任意個の属性や子ノードを持つわけではないため、\n",
"それぞれ `int` 値となり、 `Values` メソッドも単に `int[]` を返すようになります！\n",
"\n",
"## 哲学者たちをもてなす\n",
"\n",
"このセクションでは特定の話題に関する著者のリストを含んだ、単純なドキュメントを\n",
"型プロバイダーで処理する方法についてのデモを紹介します。\n",
"サンプルとなるドキュメント [`data/Writers.xml`](../../data/Writers.xml) は\n",
"以下のようになっています：\n",
"\n",
"    [lang=xml]\n",
"    \u003cauthors topic=\"Philosophy of Science\"\u003e\n",
"      \u003cauthor name=\"Paul Feyerabend\" born=\"1924\" /\u003e\n",
"      \u003cauthor name=\"Thomas Kuhn\" /\u003e\n",
"    \u003c/authors\u003e \n",
"\n",
"実行時には型プロバイダーから生成された型を使用して、以下のような文字列を\n",
"解析します(構造としてはサンプルのドキュメントと同じですが、\n",
"`author` ノードに `died` 属性が含まれているという違いがあります)：\n"]
          }
,
          {
           "cell_type": "code",
           "metadata": {},
            "execution_count": 7, "outputs": [], 
           "source": ["let authors = \"\"\"\n",
"  \u003cauthors topic=\"Philosophy of Mathematics\"\u003e\n",
"    \u003cauthor name=\"Bertrand Russell\" /\u003e\n",
"    \u003cauthor name=\"Ludwig Wittgenstein\" born=\"1889\" /\u003e\n",
"    \u003cauthor name=\"Alfred North Whitehead\" died=\"1947\" /\u003e\n",
"  \u003c/authors\u003e \"\"\"\n"]
          }
,
          {
           "cell_type": "markdown",
           "metadata": {},
           
           "source": ["`XmlProvider` の初期化時にはファイル名またはWebのURLを指定できます。\n",
"`Load` や `AsyncLoad` メソッドを使用すると、\n",
"ファイルあるいはWeb上のリソースを読み取ることができます。\n",
"`Parse` メソッドの場合はデータとして文字列を指定できるため、以下のようにすると\n",
"データ内の情報を表示することができます：\n"]
          }
,
          {
           "cell_type": "code",
           "metadata": {},
            "execution_count": 8, "outputs": [], 
           "source": ["type Authors = XmlProvider\u003c\"../../data/Writers.xml\", ResolutionFolder=__SOURCE_DIRECTORY__\u003e\n",
"let topic = Authors.Parse(authors)\n",
"\n",
"printfn \"%s\" topic.Topic\n",
"for author in topic.Authors do\n",
"  printf \" - %s\" author.Name \n",
"  author.Born |\u003e Option.iter (printf \" (%d)\")\n",
"  printfn \"\"\n"]
          }
,
          {
           "cell_type": "markdown",
           "metadata": {},
           
           "source": ["値 `topic` には( `string` 型の) `Topic` プロパティがあります。\n",
"このプロパティは同名の属性の値を返します。\n",
"また、すべての著者名をコレクションとして返すような `Authors` メソッドもあります。\n",
"`Born` プロパティはいくつかの著者では指定されていないため、\n",
"`option\u003cint\u003e` 型として定義されています。\n",
"そのため、 `Option.iter` を使用して表示する必要があります。\n",
"\n",
"`died` 属性はサンプルからの推論時には存在しないため、\n",
"静的に型付けられた方法でこの値を取得することはできません\n",
"(ただし `author.XElement.Attribute(XName.Get(\"died\"))` というコードを使用して\n",
"動的に取得することは可能です)。\n",
"\n",
"## グローバル推測モード\n",
"\n",
"これまでの例では、同じ名前の要素を（再帰的に）含むような要素は\n",
"出てきませんでした(つまりたとえば `\u003cauthor\u003e` 以下に `\u003cauthor\u003e` ノードは\n",
"決して現れないということです)。\n",
"しかしXHTMLファイルのようなドキュメントを扱う場合、こういった状況はよくあることです。\n",
"例として以下のようなサンプルドキュメントがあるとしましょう\n",
"(単純化したバージョンが [`data/HtmlBody.xml`](../../data/HtmlBody.xml) にあります)：\n",
"\n",
"    [lang=xml]\n",
"    \u003cdiv id=\"root\"\u003e\n",
"      \u003cspan\u003eMain text\u003c/span\u003e\n",
"      \u003cdiv id=\"first\"\u003e\n",
"        \u003cdiv\u003eSecond text\u003c/div\u003e\n",
"      \u003c/div\u003e\n",
"    \u003c/div\u003e\n",
"\n",
"この例では `\u003cdiv\u003e` 要素内に `\u003cdiv\u003e` 要素がありますが、いずれも同じ型として\n",
"扱われるべきであることは明らかです。\n",
"`\u003cdiv\u003e` 要素を処理する再帰関数を作成できるようになっていてもらいたいはずです。\n",
"このような場合には引数 `Global` に `true` を指定します：\n"]
          }
,
          {
           "cell_type": "code",
           "metadata": {},
            "execution_count": 9, "outputs": [], 
           "source": ["type Html = XmlProvider\u003c\"../../data/HtmlBody.xml\", Global=true, ResolutionFolder=__SOURCE_DIRECTORY__\u003e\n",
"let html = Html.GetSample()\n"]
          }
,
          {
           "cell_type": "markdown",
           "metadata": {},
           
           "source": ["引数 `Global` を `true` にすると、型プロバイダーは同名の要素すべてを **一元化** します。\n",
"つまりすべての `\u003cdiv\u003e` 要素が同じ型として扱われることになります\n",
"( `\u003cdiv\u003e` に指定されたすべての属性をプロパティとして持ち、\n",
"サンプルドキュメント内で見つけられるすべての子要素の組み合わせが考慮されます)。\n",
"\n",
"型は `Html` 以下に定義されます。\n",
"したがって、`Html.Div` を引数にとり、\n",
"各 `\u003cdiv\u003e` 要素を処理するような `printDiv` 関数を以下のようにして作成できます：\n"]
          }
,
          {
           "cell_type": "code",
           "metadata": {},
            "execution_count": 10, "outputs": [], 
           "source": ["// \u003cdiv\u003e 要素のコンテンツを表示します\n",
"let rec printDiv (div:Html.Div) =\n",
"  div.Spans |\u003e Seq.iter (printfn \"%s\")\n",
"  div.Divs |\u003e Seq.iter printDiv\n",
"  if div.Spans.Length = 0 \u0026\u0026 div.Divs.Length = 0 then\n",
"      div.Value |\u003e Option.iter (printfn \"%s\")\n",
"\n",
"// すべての子要素と共にルートの \u003cdiv\u003e 要素を表示します\n",
"printDiv html\n"]
          }
,
          {
           "cell_type": "markdown",
           "metadata": {},
           
           "source": ["この関数はまず `\u003cspan\u003e` 内のすべてのテキストを表示します\n",
"(今回の例の場合、属性が全く指定されていないため、\n",
"`string` 型として推論されます)。\n",
"次に、すべての `\u003cdiv\u003e` 要素を再帰的に表示します。\n",
"ネストされた要素が見つからない場合は `Value` (インナーテキスト)を表示します。\n",
"\n",
"## RSSフィードの読み取り\n",
"\n",
"今回の総まとめとして、もう少し実用的な例としてRSSフィードを解析してみましょう。\n",
"既に説明した通り、型プロバイダーには相対パスあるいはWebページのアドレスを指定できます：\n"]
          }
,
          {
           "cell_type": "code",
           "metadata": {},
            "execution_count": 11, "outputs": [], 
           "source": ["type Rss = XmlProvider\u003c\"http://tomasp.net/rss.xml\"\u003e\n"]
          }
,
          {
           "cell_type": "markdown",
           "metadata": {},
           
           "source": ["このコードではRSSフィード（および `http://tomasp.net` で使用されている機能）\n",
"を表す `Rss` 型を生成しています。\n",
"`Rss` 型にはこの型のインスタンスを生成するための機能として、staticメソッド\n",
"`Parse` 、 `Load` 、 `AsyncLoad` が定義されています。\n",
"今回の場合、スキーマとして指定したものと同じURIを再利用したいので、\n",
"staticメソッド `GetSample` を使用します：\n"]
          }
,
          {
           "cell_type": "code",
           "metadata": {},
            "execution_count": 12, "outputs": [], 
           "source": ["let blog = Rss.GetSample()\n"]
          }
,
          {
           "cell_type": "markdown",
           "metadata": {},
           
           "source": ["ここまで来ればRSSフィードのタイトルと直近の投稿一覧を表示することは簡単です。\n",
"単に `blog` に続けて `.` と入力すれば、自動補完の候補一覧が確認できるでしょう。\n",
"コードとしては以下のようにします：\n"]
          }
,
          {
           "cell_type": "code",
           "metadata": {},
            "execution_count": 13, "outputs": [], 
           "source": ["// Title は文字列を返すプロパティです\n",
"printfn \"%s\" blog.Channel.Title\n",
"\n",
"// すべてのitemノードを取得して、それぞれのタイトルとリンクを表示します\n",
"for item in blog.Channel.Items do\n",
"  printfn \" - %s (%s)\" item.Title item.Link\n"]
          }
,
          {
           "cell_type": "markdown",
           "metadata": {},
           
           "source": ["## 関連する記事\n",
"\n",
" * [API リファレンス: XmlProvider 型プロバイダー](../..reference/fsharp-data-xmlprovider.html)\n",
" * [API リファレンス: XElementExtensions モジュール](../../reference/fsharp-data-xelementextensions.html)\n",
"\n"]
          }],
            "metadata": {
            "kernelspec": {"display_name": ".NET (F#)", "language": "F#", "name": ".net-fsharp"},
            "langauge_info": {
        "file_extension": ".fs",
        "mimetype": "text/x-fsharp",
        "name": "C#",
        "pygments_lexer": "fsharp",
        "version": "4.5"
        }
        },
            "nbformat": 4,
            "nbformat_minor": 1
        }
        

