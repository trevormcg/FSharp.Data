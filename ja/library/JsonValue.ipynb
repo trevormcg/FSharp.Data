
        {
            "cells": [
          {
           "cell_type": "code",
           "metadata": {},
            "execution_count": null, "outputs": [], 
           "source": ["#r \"nuget: FSharp.Data,4.1.1\"\n",
"\n",
"Formatter.SetPreferredMimeTypeFor(typeof\u003cobj\u003e, \"text/plain\")\n",
"Formatter.Register(fun (x:obj) (writer: TextWriter) -\u003e fprintfn writer \"%120A\" x )\n"]
          }
,
          {
           "cell_type": "markdown",
           "metadata": {},
           
           "source": ["# JSON パーサーおよびリーダー\n",
"\n",
"F#の [JSON 型プロバイダー](JsonProvider.html) はF#で作成された\n",
"効率の良いJSONパーサーを元にしています。\n",
"\n",
"厳密に定義されたJSONドキュメントを処理する場合、\n",
"[型プロバイダー](JsonProvider.html) を使うと簡単なのですが、\n",
"動的に処理するようなシナリオであったり、\n",
"単純なスクリプトを手軽に用意したいような場合には\n",
"パーサーを使ったほうが簡単でしょう。\n",
"\n",
"## JSONドキュメントの読み取り\n",
"\n",
"サンプルとなるJSONドキュメントを読み取るには\n",
"(F# Interactiveの場合)`FSharp.Data.dll` ライブラリへの参照を追加するか、\n",
"プロジェクトで参照を追加します。\n"]
          }
,
          {
           "cell_type": "code",
           "metadata": {},
            "execution_count": 2, "outputs": [], 
           "source": ["open FSharp.Data\n"]
          }
,
          {
           "cell_type": "markdown",
           "metadata": {},
           
           "source": ["`FSharp.Data` 名前空間にある `JsonValue` 型を使うと、\n",
"以下のようにしてJSON形式の文字列をパースできます：\n"]
          }
,
          {
           "cell_type": "code",
           "metadata": {},
            "execution_count": 3, "outputs": [], 
           "source": ["let info =\n",
"  JsonValue.Parse(\"\"\" \n",
"    { \"name\": \"Tomas\", \"born\": 1985,\n",
"      \"siblings\": [ \"Jan\", \"Alexander\" ] } \"\"\")\n"]
          }
,
          {
           "cell_type": "markdown",
           "metadata": {},
           
           "source": ["`JsonValue` 型は `Record` や `Collection` などのケースを持った判別共用体なので\n",
"パターンマッチを使ってパース後の値の構造を調査することができます。\n",
"\n",
"## JSON用拡張機能を使用する\n",
"\n",
"ここではすべての機能を紹介しません。\n",
"その代わり、 `FSharp.Data.JsonExtensions` 名前空間をオープンすることで\n",
"利用できるようになるいくつかの拡張機能について説明します。\n",
"この名前空間をオープンすると、以下のような記述ができるようになります：\n",
"\n",
" * `value.AsBoolean()` は値が `true` または `false` の場合にブール値を返します。\n",
" * `value.AsInteger()` は値が数値型で、整数として変換可能であれば整数値を返します。\n",
"   同様に `value.AsInteger64()` `value.AsDecimal()` `value.AsFloat()`\n",
"   といったものもあります。\n",
" * `value.AsString()` は値を文字列として返します。\n",
" * `value.AsDateTime()` は値を [ISO 8601](http://en.wikipedia.org/wiki/ISO_8601) か、\n",
"   1970/1/1からのミリ秒を含んだJSON形式の `\\/Date(...)\\/` でパースして\n",
"   `DateTime` を返します。\n",
" * `value.AsGuid()` は値を `Guid` としてパースします。\n",
" * `value?child` は `child` という名前のレコードメンバーを\n",
"   取得するための動的演算子です。\n",
"   あるいは `value.GetProperty(child)` やインデクサ `value.[child]`\n",
"   を使うこともできます。\n",
" * `value.TryGetProperty(child)` はレコードメンバーを安全に取得できます\n",
"   (もしメンバーが値無しあるいはレコードではなかった場合、 `TryGetProperty` は\n",
"    `None` を返します)。\n",
" * `[ for v in value -\u003e v ]` とすると `value` をコレクションとして扱い、\n",
"   含まれている要素を走査します。\n",
"   また、 `value.AsArray()` とすると、すべての要素を配列として取得できます。\n",
" * `value.Properties()` はレコードノードの全プロパティのリストを返します。\n",
" * `value.InnerText()` はすべてのテキストあるいは配列内のテキスト\n",
"   (たとえば複数行文字列を表すデータ)を連結します\n",
"\n",
"数値または日付データとしてパースする( `AsFloat` や `AsDateTime` などの)メソッドには\n",
"省略可能な引数としてカルチャを指定出来ます。\n",
"\n",
"以下のコードはサンプルで指定したJSONの値を処理する方法の一例です：\n"]
          }
,
          {
           "cell_type": "code",
           "metadata": {},
            "execution_count": 4, "outputs": [], 
           "source": ["open FSharp.Data.JsonExtensions\n",
"\n",
"// 名前と誕生日を表示\n",
"let n = info?name\n",
"printfn \"%s (%d)\" (info?name.AsString()) (info?born.AsInteger())\n",
"\n",
"// 兄弟姉妹全員の名前を表示\n",
"for sib in info?siblings do\n",
"  printfn \"%s\" (sib.AsString())\n"]
          }
,
          {
           "cell_type": "markdown",
           "metadata": {},
           
           "source": ["`JsonValue` 型は実際には `IEnumerable\u003c\u0027T\u003e` インターフェイスを\n",
"実装しているわけではありません(つまり `Seq.xyz` 関数に渡す事はできません)。\n",
"`GetEnumerator` だけが定義されているため、シーケンス式内や\n",
"`for` ループで使うことができるというわけです。\n",
"## WorldBankからのレスポンスをパースする\n",
"\n",
"もう少し複雑な例として、WorldBankへのリクエストに対する\n",
"レスポンスデータ [`data/WorldBank.json`](../../data/WorldBank.json) を\n",
"サンプルドキュメントにしてみます。\n",
"(より便利な方法としては [型プロバイダー](WorldBank.html) を使って\n",
"WorldBankにアクセスすることもできます)。\n",
"このドキュメントは以下のようになっています：\n",
"\n",
"    [lang=js]\n",
"    [ { \"page\": 1, \"pages\": 1, \"total\": 53 },\n",
"      [ { \"indicator\": {\"value\": \"Central government debt, total (% of GDP)\"},\n",
"          \"country\": {\"id\":\"CZ\",\"value\":\"Czech Republic\"},\n",
"          \"value\":null,\"decimal\":\"1\",\"date\":\"2000\"},\n",
"        { \"indicator\": {\"value\": \"Central government debt, total (% of GDP)\"},\n",
"          \"country\": {\"id\":\"CZ\",\"value\":\"Czech Republic\"},\n",
"          \"value\":\"16.6567773464055\",\"decimal\":\"1\",\"date\":\"2010\"} ] ]\n",
"\n",
"このように、全体としては配列になっていて、\n",
"1番目の要素にはレコード、2番目の要素にはデータ点のコレクションが\n",
"含まれた形式になっています。\n",
"このドキュメントは以下のようにして読み取りおよびパースできます：\n"]
          }
,
          {
           "cell_type": "code",
           "metadata": {},
            "execution_count": 5, "outputs": [], 
           "source": ["let value = JsonValue.Load(__SOURCE_DIRECTORY__ + \"../../../data/WorldBank.json\")\n"]
          }
,
          {
           "cell_type": "markdown",
           "metadata": {},
           
           "source": ["なおWeb上から直接データを読み取ることもできます。\n",
"また、読み取りを非同期的に実行するバージョンもあります：\n",
"*\n"]
          }
,
          {
           "cell_type": "code",
           "metadata": {},
            "execution_count": 6, "outputs": [], 
           "source": ["let valueAsync = JsonValue.AsyncLoad(\"http://api.worldbank.org/country/cz/indicator/GC.DOD.TOTL.GD.ZS?format=json\")\n"]
          }
,
          {
           "cell_type": "markdown",
           "metadata": {},
           
           "source": ["最上位の配列を1番目の(概要を含んだ)レコードとデータ点のコレクションに分けるためには\n",
"`value` に対してパターンマッチを使って\n",
"`Jsonvalue.Array` のコンストラクタとマッチするかどうか調べます：\n"]
          }
,
          {
           "cell_type": "code",
           "metadata": {},
            "execution_count": 7, "outputs": [], 
           "source": ["match value with\n",
"| JsonValue.Array [| info; data |] -\u003e\n",
"    // 概要を表示\n",
"    let page, pages, total = info?page, info?pages, info?total\n",
"    printfn \n",
"      \"%d ページ中の %d ページ目を表示中。 全体のレコード数は %d\" \n",
"      (pages.AsInteger()) (page.AsInteger()) (total.AsInteger())\n",
"    \n",
"    // 非nullのデータ点をそれぞれ表示\n",
"    for record in data do\n",
"      if record?value \u003c\u003e JsonValue.Null then\n",
"        printfn \"%d: %f\" (record?date.AsInteger()) \n",
"                         (record?value.AsFloat())\n",
"| _ -\u003e printfn \"失敗しました\"\n"]
          }
,
          {
           "cell_type": "markdown",
           "metadata": {},
           
           "source": ["データ点の `value` プロパティは常に使用できるわけではありません。\n",
"直前で説明してある通り、この値は `null` になることがあります。\n",
"その場合にはデータ点をスキップします。\n",
"プロパティが `null` かどうか調べる場合は単に `JsonValue.Null` と\n",
"比較するだけです。\n",
"\n",
"また `date` と `value` のプロパティは元のファイルでは( `1990` のような)数値ではなく、\n",
"( `\"1990\"` のような)文字列形式になっている点に注意してください。\n",
"この値を int または float として取得しようとすると、\n",
"`JsonValue` は自動的に文字列を特定の形式になるようにパースします。\n",
"一般的にはこのAPIがファイルをパースする場合、\n",
"できるだけ寛容に値を受け入れるようになっています。\n",
"\n",
"## 関連する記事\n",
"\n",
" * [JSON 型プロバイダー](JsonProvider.html) -\n",
"   型安全な方法でJSONデータにアクセスする機能を持った\n",
"   F# 型プロバイダーについて説明しています。\n",
" * [WorldBank プロバイダー](WorldBank.html) -\n",
"   WorldBank 型プロバイダーを使うとWorldBankから受け取ったデータを\n",
"   簡単に処理出来るようになります。\n",
" * [API リファレンス: JsonValue 判別共用体](../../reference/fsharp-data-jsonvalue.html)\n",
" * [API リファレンス: JsonExtensions モジュール](../../reference/fsharp-data-jsonextensions.html)\n",
"\n"]
          }],
            "metadata": {
            "kernelspec": {"display_name": ".NET (F#)", "language": "F#", "name": ".net-fsharp"},
            "langauge_info": {
        "file_extension": ".fs",
        "mimetype": "text/x-fsharp",
        "name": "C#",
        "pygments_lexer": "fsharp",
        "version": "4.5"
        }
        },
            "nbformat": 4,
            "nbformat_minor": 1
        }
        

