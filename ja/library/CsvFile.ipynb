
        {
            "cells": [
          {
           "cell_type": "code",
           "metadata": {},
            "execution_count": null, "outputs": [], 
           "source": ["#r \"nuget: FSharp.Data,4.1.1\"\n",
"\n",
"Formatter.SetPreferredMimeTypeFor(typeof\u003cobj\u003e, \"text/plain\")\n",
"Formatter.Register(fun (x:obj) (writer: TextWriter) -\u003e fprintfn writer \"%120A\" x )\n"]
          }
,
          {
           "cell_type": "markdown",
           "metadata": {},
           
           "source": ["# CSV パーサーおよびリーダー\n",
"\n",
"F#の [CSV 型プロバイダー](CsvProvider.html) はF#で作成された\n",
"効率の良いCSVパーサーを元にしています。\n",
"また、動的に値にアクセスできるような単純なAPIも備えられています。\n",
"\n",
"厳密に定義されたCSV形式のドキュメントを扱う場合には、\n",
"[型プロバイダー](CsvProvider.html) を使用したほうが簡単です。\n",
"しかし動的アクセスが必要になるシナリオや、\n",
"単純なスクリプトを手軽に作成したい場合には\n",
"パーサーを直接使ったほうがおそらくは簡単でしょう。\n",
"\n",
"## CSVドキュメントの読み取り\n",
"\n",
"サンプルとなるCSVドキュメントを読み込むには、まず\n",
"(F# Interactiveを使用している場合は) `FSharp.Data.dll` への参照を追加するか、\n",
"プロジェクトで参照を追加する必要があります。\n"]
          }
,
          {
           "cell_type": "code",
           "metadata": {},
            "execution_count": 2, "outputs": [], 
           "source": ["open FSharp.Data\n"]
          }
,
          {
           "cell_type": "markdown",
           "metadata": {},
           
           "source": ["`FSharp.Data` 名前空間には `CsvFile` 型が含まれていて、\n",
"この型ではデータの読み取り用に2つのstaticメソッドが公開されています。\n",
"`Parse` メソッドはデータを `string` 型の値として指定できます。\n",
"`Load` メソッドはデータをファイルあるいはWeb上のリソースから読み取ることができます\n",
"(また、非同期バージョンの `LoadAsync` もあります)。\n",
"以下の例ではYahoo financeのウェブサイトにある実際のCSVファイルのURLを指定して\n",
"`Load` メソッドを呼び出しています：\n"]
          }
,
          {
           "cell_type": "code",
           "metadata": {},
            "execution_count": 3, "outputs": [], 
           "source": ["// 株価データをダウンロード\n",
"let msft = CsvFile.Load(__SOURCE_DIRECTORY__ + \"/../../data/MSFT.csv\")\n",
"\n",
"// HLOC形式で株価を表示\n",
"for row in msft.Rows do\n",
"  printfn \"HLOC: (%s, %s, %s)\" (row.GetColumn \"High\") (row.GetColumn \"Low\") (row.GetColumn \"Date\")\n"]
          }
,
          {
           "cell_type": "markdown",
           "metadata": {},
           
           "source": ["`CsvProvider` とは異なり、 `CsvFile` はパフォーマンスを上げるために\n",
"ストリーミングモードで動作します。\n",
"つまり `Rows` は1度だけしか走査できません。\n",
"複数回走査する必要がある場合には `Cache` メソッドを使用することになります。\n",
"ただしこのメソッドはメモリを多く使用するため、\n",
"巨大なデータセットを処理する場合には使用すべきではありません。\n",
"\n",
"## CSV の拡張機能を使用する\n",
"\n",
"ここでは `FSharp.Data.CsvExtensions` 名前空間をオープンすることで\n",
"使用できるようになる拡張機能について説明します。\n",
"この名前空間をオープンすると以下のような記述ができるようになります：\n",
"\n",
" * `row?column` という動的演算子を使うと `column` 列の値を取得できます。\n",
"    あるいは `row.[column]` というインデクサ形式でも取得できます。\n",
" * `value.AsBoolean()` は値が `true` または `false` であれば\n",
"    それをブール値として返します。\n",
" * `value.AsInteger()` は値が数値型であり、整数として変換可能であれば\n",
"    それを整数値として返します。\n",
"    同じように `value.AsInteger64()` 、 `value.AsDecimal()` 、\n",
"   `value.AsFloat()` といったメソッドもあります。\n",
" * `value.AsDateTime()` は [ISO 8601](http://en.wikipedia.org/wiki/ISO_8601)\n",
"    形式か、あるいは1970/1/1からのミリ秒を含んだ `\\/Date(...)\\/` JSON 形式の値を\n",
"    `DateTime` として返します。\n",
" * `value.AsGuid()` は値を `Guid` として返します。\n",
"\n",
"数値あるいは日付の値をパースする必要があるメソッドには\n",
"省略可能なパラメータとしてカルチャを指定できます。\n",
"\n",
"以下の例では先ほどのCSVをサンプルにして\n",
"これらの拡張メソッドを呼び出しています：\n"]
          }
,
          {
           "cell_type": "code",
           "metadata": {},
            "execution_count": 4, "outputs": [], 
           "source": ["open FSharp.Data.CsvExtensions\n",
"\n",
"for row in msft.Rows do\n",
"  printfn \"HLOC: (%f, %M, %O)\" (row.[\"High\"].AsFloat()) (row?Low.AsDecimal()) (row?Date.AsDateTime())\n"]
          }
,
          {
           "cell_type": "markdown",
           "metadata": {},
           
           "source": ["## CSVファイルを変形する\n",
"\n",
"`CsvFiles` は読み取りだけではなく、CSVファイルの変形もサポートしています。\n",
"`Filter` `Take` `TakeWhile` `Skip` `SkipWhile` `Truncate` といった操作が可能です。\n",
"変形後は `Save` メソッドのオーバーロードのいずれかを使って結果を保存できます。\n",
"保存時には別の区切り文字やクォート文字を指定できます。\n"]
          }
,
          {
           "cell_type": "code",
           "metadata": {},
            "execution_count": 5, "outputs": [], 
           "source": ["// 終値が始値よりも高いもののうち、上位10位の株価をTSV(タブ区切り)形式で保存します：\n",
"msft.Filter(fun row -\u003e row?Close.AsFloat() \u003e row?Open.AsFloat())\n",
"    .Truncate(10)\n",
"    .SaveToString(\u0027\\t\u0027)\n"]
          }
,
          {
           "cell_type": "markdown",
           "metadata": {},
           
           "source": ["## 関連する記事\n",
"\n",
" * [CSV 型プロバイダー](CsvProvider.html) - \n",
"   型セーフな方法でCSVデータにアクセスできるような\n",
"   F# 型プロバイダーについて説明しています。\n",
" * [API リファレンス: CsvFile クラス](../../reference/fsharp-data-csvfile.html)\n",
" * [API リファレンス: CsvRow クラス](../../reference/fsharp-data-csvrow.html)\n",
" * [API リファレンス: CsvExtensions モジュール](../../reference/fsharp-data-csvextensions.html)\n"]
          }],
            "metadata": {
            "kernelspec": {"display_name": ".NET (F#)", "language": "F#", "name": ".net-fsharp"},
            "langauge_info": {
        "file_extension": ".fs",
        "mimetype": "text/x-fsharp",
        "name": "C#",
        "pygments_lexer": "fsharp",
        "version": "4.5"
        }
        },
            "nbformat": 4,
            "nbformat_minor": 1
        }
        

