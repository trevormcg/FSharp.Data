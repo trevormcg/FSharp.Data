
        {
            "cells": [
          {
           "cell_type": "code",
           "metadata": {},
            "execution_count": null, "outputs": [], 
           "source": ["#r \"nuget: FSharp.Data,4.1.1\"\n",
"\n",
"Formatter.SetPreferredMimeTypeFor(typeof\u003cobj\u003e, \"text/plain\")\n",
"Formatter.Register(fun (x:obj) (writer: TextWriter) -\u003e fprintfn writer \"%120A\" x )\n"]
          }
,
          {
           "cell_type": "markdown",
           "metadata": {},
           
           "source": ["# CSV 型プロバイダー\n",
"\n",
"この記事ではCSV 型プロバイダーを使って\n",
"静的に型付けされた方法でCSVファイルを扱う方法を紹介します。\n",
"\n",
"CSV 型プロバイダーは入力としてサンプルとなるCSVを受け取り、\n",
"このサンプル内の列データを元にした型を生成します。\n",
"列の名前は1行目(ヘッダ行)が元になり、各列の型は2行目以降にあるデータから\n",
"推測されます。\n",
"\n",
"## プロバイダーの基本\n",
"\n",
"この型プロバイダーは `FSharp.Data.Dll` アセンブリに含まれています。\n",
"このアセンブリが `../../../../bin` にあるとすると、\n",
"F# Interactiveでアセンブリを読み込むには以下のようにします：\n"]
          }
,
          {
           "cell_type": "code",
           "metadata": {},
            "execution_count": 2, "outputs": [], 
           "source": ["open FSharp.Data\n"]
          }
,
          {
           "cell_type": "markdown",
           "metadata": {},
           
           "source": ["### 株価をパースする\n",
"\n",
"Yahoo FinanceのWebサイトでは以下のような構造のCSV形式で\n",
"日単位の株価が公開されています\n",
"(より大きな例としては [`data/MSFT.csv`](../../data/MSFT.csv) ファイルを\n",
"参照してください)：\n",
"\n",
"    [lang=text]\n",
"    Date,Open,High,Low,Close,Volume,Adj Close\n",
"    2012-01-27,29.45,29.53,29.17,29.23,44187700,29.23\n",
"    2012-01-26,29.61,29.70,29.40,29.50,49102800,29.50\n",
"    2012-01-25,29.07,29.65,29.07,29.56,59231700,29.56\n",
"    2012-01-24,29.47,29.57,29.18,29.34,51703300,29.34\n",
"\n",
"一般的なCSVファイルと同じく、1行目にはヘッダ(各列の名前)があり、\n",
"2行目以降にデータがあります。\n",
"このファイルを `CsvProvider` に指定すると、\n",
"静的に型付けされた方法でファイルの内容を参照できるようになります：\n"]
          }
,
          {
           "cell_type": "code",
           "metadata": {},
            "execution_count": 3, "outputs": [], 
           "source": ["type Stocks = CsvProvider\u003c\"../../data/MSFT.csv\", ResolutionFolder=__SOURCE_DIRECTORY__\u003e\n"]
          }
,
          {
           "cell_type": "markdown",
           "metadata": {},
           
           "source": ["生成された型にはデータをロードするための2つのstaticメソッドがあります。\n",
"データが文字列の場合には `Parse` メソッドを使用します。\n",
"データがファイルやWeb上のリソースの場合には `Load` メソッドを使用します\n",
"(非同期バージョンの `AsyncLoad` メソッドもあります)。\n",
"型プロバイダーに指定するサンプル用の引数には\n",
"ローカルのパスだけではなく、Web上のURLを指定することもできます。\n",
"以下の例ではYahoo FinanceのWebサイトで実際に公開されているCSVファイルの\n",
"URLを使って `Load` メソッドを呼び出しています：\n"]
          }
,
          {
           "cell_type": "code",
           "metadata": {},
            "execution_count": 4, "outputs": [], 
           "source": ["// 株価データをダウンロード\n",
"let msft = Stocks.Load(__SOURCE_DIRECTORY__ + \"/../../data/MSFT.csv\")\n",
"\n",
"// 最新の行をチェックする。なお \u0027Date\u0027 プロパティは\n",
"// \u0027DateTime\u0027 型で、 \u0027Open\u0027 プロパティは \u0027decimal\u0027 型であることに注意\n",
"let firstRow = msft.Rows |\u003e Seq.head\n",
"let lastDate = firstRow.Date\n",
"let lastOpen = firstRow.Open\n",
"\n",
"// 株価を四本値形式で表示\n",
"for row in msft.Rows do\n",
"  printfn \"HLOC: (%A, %A, %A, %A)\" row.High row.Low row.Open row.Close\n"]
          }
,
          {
           "cell_type": "markdown",
           "metadata": {},
           
           "source": ["\u003e 訳注：四本値とは高値、安値、始値、終値の4種の値段のこと\n",
"\n",
"生成された型にはCSVファイルのデータを行コレクションとして返す\n",
"`Rows` プロパティがあります。\n",
"ここでは `for` ループを使って各行を走査しています。\n",
"見て分かるように、行のための(生成された)型には `High` や `Low` 、\n",
"`Close` など、CSVファイルの各列に対応するプロパティがあります。\n",
"\n",
"また、型プロバイダーが各列の型を推測していることも確認できます。\n",
"`Date` プロパティは(サンプルファイル中のデータが日付としてパースできるため)\n",
"`DateTime` 型として推測されていますが、一方で四本値はそれぞれ\n",
"`decimal` として推測されています。\n",
"\n",
"## 測定単位を使用する\n",
"\n",
"もう1つ興味深い機能として、CSV 型プロバイダーは測定単位をサポートしています。\n",
"標準SI単位の名前あるいは記号がヘッダに含まれている場合、\n",
"生成された型では特定の単位が付加された値が返されるようになります。\n",
"\n",
"このセクションでは以下のような単純なデータが含まれた\n",
"[`data/SmallTest.csv`](../../data/SmallTest.csv) を使います：\n",
"\n",
"    [lang=text]\n",
"    Name,  Distance (metre), Time (s)\n",
"    First, 50.0,             3.7\n",
"\n",
"見ての通り、2列目と3列目にはそれぞれ `metre` と `s` という単位があります。\n",
"コード側で測定単位を使う場合、\n",
"標準単位名を含んだ名前空間をオープンする必要があります。\n",
"その後、型プロバイダーのstatic引数に `SmallTest.csv` を指定します。\n",
"なお今回は同じデータを実行時にも使用するため、\n",
"同じ引数を再度指定して `Load` を呼び出すのではなく、\n",
"`GetSample` メソッドを使っていることに注意してください。\n"]
          }
,
          {
           "cell_type": "code",
           "metadata": {},
            "execution_count": 5, "outputs": [], 
           "source": ["let small = CsvProvider\u003c\"../../data/SmallTest.csv\", ResolutionFolder=__SOURCE_DIRECTORY__\u003e.GetSample()\n"]
          }
,
          {
           "cell_type": "markdown",
           "metadata": {},
           
           "source": ["先ほどの例と同じく、行データは値 `small` の `Rows` プロパティで取得できます。\n",
"今回は生成されたプロパティ `Distance` と `Time` に単位が付加されています。\n",
"以下の単純な計算をみてください：\n"]
          }
,
          {
           "cell_type": "code",
           "metadata": {},
            "execution_count": 6, "outputs": [], 
           "source": ["open FSharp.Data.UnitSystems.SI.UnitNames\n",
"\n",
"for row in small.Rows do\n",
"  let speed = row.Distance / row.Time\n",
"  if speed \u003e 15.0M\u003cmetre/second\u003e then \n",
"    printfn \"%s (%A m/s)\" row.Name speed\n"]
          }
,
          {
           "cell_type": "markdown",
           "metadata": {},
           
           "source": ["`Distance` と `Time` の数値的な値はいずれも(かなり小さな値なので)\n",
"`decimal` として推測されています。\n",
"したがって `speed` の型は `decimal\u003cmeter/second\u003e` になります。\n",
"そうするとコンパイラは互換性のない値を比較していないかどうか、\n",
"つまりたとえばメートル毎秒とキロメートル毎時を比較していたりはしないか\n",
"チェックするようになります。\n",
"\n",
"## 独自の区切り文字とタブ区切りファイル\n",
"\n",
"CSV 型プロバイダーはデフォルトではカンマ( `,` )を区切り文字とします。\n",
"しかし場合によっては `,` ではない区切り文字が\n",
"CSVファイルで使われていることがあります。\n",
"ヨーロッパの一部の国では `,` が10進数の区切り文字として使われているため、\n",
"CSVの列区切り文字には代わりにセミコロン( `;` )が使われます。\n",
"`CsvProvider` は省略可能なstatic引数 `Separator` に\n",
"代わりとなる区切り文字を指定できます。\n",
"つまりこれを使えばタブ区切り形式のテキストも処理できるわけです。\n",
"以下では区切り文字として `;` を使っています：\n"]
          }
,
          {
           "cell_type": "code",
           "metadata": {},
            "execution_count": 7, "outputs": [], 
           "source": ["let airQuality = CsvProvider\u003c\"../../data/AirQuality.csv\", \";\", ResolutionFolder=__SOURCE_DIRECTORY__\u003e.GetSample()\n",
"\n",
"for row in airQuality.Rows do\n",
"  if row.Month \u003e 6 then \n",
"    printfn \"Temp: %i Ozone: %f \" row.Temp row.Ozone\n"]
          }
,
          {
           "cell_type": "markdown",
           "metadata": {},
           
           "source": ["空気質のデータセット([`data/AirQuality.csv`](../../data/AirQuality.csv))は\n",
"統計解析向け言語 R の多くのサンプルで使われているものです。\n",
"このデータセットの簡単な説明については\n",
"[R の言語マニュアル](http://stat.ethz.ch/R-manual/R-devel/library/datasets/html/airquality.html)\n",
"を参照してください。\n",
"\n",
"`\\t` を区切り文字とするようなタブ区切りファイルを処理する場合には\n",
"やはり区切り文字を明示的に指定してもよいでしょう。\n",
"ですが、URLまたはファイルの末尾にある拡張子が `.tsv` になっていると\n",
"型プロバイダーはデフォルトで `\\t` を区切り文字とするようになります。\n",
"以下の例ではstatic引数 `IgnoreErrors` を `true` にして、\n",
"要素数が異なる行を自動的に無視するようにもしています\n",
"(サンプルファイル [`data/MortalityNY.csv`](../../data/MortalityNY.tsv) には\n",
"末尾に構造化されていないデータが追加されています)：\n"]
          }
,
          {
           "cell_type": "code",
           "metadata": {},
            "execution_count": 8, "outputs": [], 
           "source": ["let mortalityNy = CsvProvider\u003c\"../../data/MortalityNY.tsv\", IgnoreErrors=true, ResolutionFolder=__SOURCE_DIRECTORY__\u003e.GetSample()\n",
"\n",
"// 原因名をコードで検索\n",
"// (事故で負傷した自転車走者)\n",
"let cause = mortalityNy.Rows |\u003e Seq.find (fun r -\u003e \n",
"  r.``Cause of death Code`` = \"V13.4\")\n",
"\n",
"// 負傷した走者数を出力\n",
"printfn \"原因: %s\" cause.``Cause of death``\n",
"for r in mortalityNy.Rows do\n",
"  if r.``Cause of death Code`` = \"V13.4\" then \n",
"    printfn \"%s (%d 件)\" r.County r.Count\n"]
          }
,
          {
           "cell_type": "markdown",
           "metadata": {},
           
           "source": ["最後に、 `CsvProvider` には複数種類の区切り文字を指定することもできます。\n",
"これはたとえばファイルが不正で、セミコロンかコロンのどちらかで\n",
"行が区切られているような場合に有効です。\n",
"具体的には\n",
"`CsvProvider\u003c\"../../data/AirQuality.csv\", Separator=\";,\", ResolutionFolder=__SOURCE_DIRECTORY__\u003e`\n",
"というようにします。\n",
"\n",
"## 値無し\n",
"\n",
"統計的データセットでは一部の値が無しになっているということがよくあります。\n",
"[`data/AirQuality.csv`](../../data/AirQuality.csv) ファイルを開くと、\n",
"一部のオゾンの観測値が `#N/A` と記録されていることが確認できます。\n",
"このような値はfloatとしてパースされ、F#であれば `Double.NaN` という値とみなされます。\n",
"デフォルトでは `#N/A` `NA` `:` が値無しを表す値と認識されますが、\n",
"`CsvProvider` のstatic引数 `MissingValues` を指定して\n",
"カスタマイズすることもできます。\n",
"\n",
"以下のコードでは `Double.NaN` になっている値を除いて、\n",
"オゾンの観測値の平均を計算しています。\n",
"まず各行の `Ozone` プロパティを取得して値無しを除去した後、\n",
"標準の `Seq.average` 関数を使って平均を計算しています：\n"]
          }
,
          {
           "cell_type": "code",
           "metadata": {},
            "execution_count": 9, "outputs": [], 
           "source": ["let mean = \n",
"  airQuality.Rows \n",
"  |\u003e Seq.map (fun row -\u003e row.Ozone) \n",
"  |\u003e Seq.filter (fun elem -\u003e not (System.Double.IsNaN elem)) \n",
"  |\u003e Seq.average \n"]
          }
,
          {
           "cell_type": "markdown",
           "metadata": {},
           
           "source": ["サンプルとして指定するデータにはどの列にも値無しのデータが含まれていないものの、\n",
"実行時にはどこかで値無しが現れる可能性があるという場合には\n",
"`AssumeMissingValues` を `true` に設定すれば、\n",
"`CsvProvider` がどこかの列には値無しが現れるだろうと想定するようになります。\n",
"\n",
"## 列の型を制御する\n",
"\n",
"デフォルトではCSV 型プロバイダーは最初の1000行を使って型を推測します。\n",
"しかし `CsvProvider` のstatic引数 `InferRows` を使うと\n",
"この動作をカスタマイズできます。\n",
"0を指定するとファイル全体が使われるようになります。\n",
"\n",
"`0` `1` `Yes` `No` `True` `False` しか含まない列は `bool` になります。\n",
"数値を含む列はそれぞれ精度に応じて `int` `int64` `decimal` `float` の\n",
"いずれかになります。\n",
"\n",
"いずれかの行で値無しになっている場合、CSV 型プロバイダーは\n",
"その行を(`int` および `int64` に対しては)null許容型、\n",
"あるいは(`bool` `DateTime` `Guid` に対しては)オプション型とみなします。\n",
"`decimal` と推測できる列に値無しが含まれる場合、代わりに `float` とみなされ、\n",
"値無しが `Double.NaN` として表現されます。\n",
"`string` 型はそれ自体が既にnullを許容するため、\n",
"デフォルトでは `string option` と推測されることはありません。\n",
"すべての場合においてオプション型になるようにしたい場合には、\n",
"static引数 `PreferOptionals` を `true` にします。\n",
"この設定を行うと、空の文字列や `Double.NaN` ではなく、\n",
"代わりに `None` が返されるようになります。\n",
"\n",
"他にもたとえば `decimal` ではなく `float` として行を扱いたいというような、\n",
"別の設定を使いたい場合には、ヘッダ行で列の型を丸括弧で囲んで記述することで\n",
"デフォルトの動作を上書きできます。\n",
"これは測定単位を指定する方法と同じです。\n",
"ヘッダ行による指定方法は `AssumeMissingValues` や `PreferOptionals` の動作を上書きします。\n",
"指定可能な型は以下の通りです：\n",
"\n",
"* `int`\n",
"* `int?`\n",
"* `int option`\n",
"* `int64`\n",
"* `int64?`\n",
"* `int64 option`\n",
"* `bool`\n",
"* `bool?`\n",
"* `bool option`\n",
"* `float`\n",
"* `float?`\n",
"* `float option`\n",
"* `decimal`\n",
"* `decimal?`\n",
"* `decimal option`\n",
"* `date`\n",
"* `date?`\n",
"* `date option`\n",
"* `guid`\n",
"* `guid?`\n",
"* `guid option`\n",
"* `string`\n",
"* `string option`.\n",
"\n",
"型と測定単位の両方を( `float\u003cmetre\u003e` のようにして)指定することもできます。\n",
"たとえば以下の通りです：\n",
"\n",
"    [lang=text]\n",
"    Name,  Distance (decimal?\u003cmetre\u003e), Time (float)\n",
"    First, 50,                        3\n",
"\n",
"さらに、 `CsvProvider` のstatic引数 `Schema` で一部またはすべての型を\n",
"指定することもできます。\n",
"指定可能な形式は以下の通りです：\n",
"\n",
"* `型`\n",
"* `型\u003c測定単位\u003e`\n",
"* `名前 (型)`\n",
"* `名前 (型\u003c測定単位\u003e)`\n",
"\n",
"`Schema` 引数で指定された値はヘッダ行で指定されたものよりも常に優先されます。\n",
"\n",
"ファイルの1行目がヘッダ行ではない場合、static引数 `HasHeaders` を `false` に\n",
"すると1行目もデータ行とみなされるようになります。\n",
"この場合、それぞれの行は `Schema` 引数で指定されていなければ\n",
"`Column1` `Column2` という名前になります。\n",
"なお `Schema` 引数で名前だけを上書きしつつ、\n",
"型プロバイダーに列の型を推測させることもできます。\n",
"たとえば以下のようにします：\n"]
          }
,
          {
           "cell_type": "code",
           "metadata": {},
            "execution_count": 10, "outputs": [], 
           "source": ["let csv = CsvProvider\u003c\"1,2,3\", HasHeaders = false, Schema = \"Duration (float\u003csecond\u003e),foo,float option\"\u003e.GetSample()\n",
"for row in csv.Rows do\n",
"  printfn \"%f %d %f\" (row.Duration/1.0\u003csecond\u003e) row.Foo (defaultArg row.Column3 1.0)\n"]
          }
,
          {
           "cell_type": "markdown",
           "metadata": {},
           
           "source": ["必ずしもすべての列を上書きしなければいけないわけではなく、\n",
"一部をデフォルトのままにしておくこともできます。\n",
"たとえばKaggleから取得したタイタニックの乗船者データ\n",
"([`data/Titanic.csv`](../../data/Titanic.csv))\n",
"を対象にしている時に、3列目( `PClass` 列)を `Passenger Class` 、\n",
"6列目( `Fare` 列)を `decimal` ではなく `float` にしたい場合、\n",
"これらだけを定義しておいて、その他の行が空になっているようなスキーマを\n",
"指定します(末尾で連続するカンマは省略できます)。\n",
"\n"]
          }
,
          {
           "cell_type": "code",
           "metadata": {},
            "execution_count": 11, "outputs": [], 
           "source": ["let titanic1 = CsvProvider\u003c\"../../data/Titanic.csv\", Schema=\",,Passenger Class,,,float\", ResolutionFolder=__SOURCE_DIRECTORY__\u003e.GetSample()\n",
"for row in titanic1.Rows do\n",
"  printfn \"%s Class = %d Fare = %g\" row.Name row.``Passenger Class`` row.Fare\n"]
          }
,
          {
           "cell_type": "markdown",
           "metadata": {},
           
           "source": ["あるいは位置で指定する代わりに列の名前を使って上書きすることもできます：\n",
"\n"]
          }
,
          {
           "cell_type": "code",
           "metadata": {},
            "execution_count": 12, "outputs": [], 
           "source": ["let titanic2 = CsvProvider\u003c\"../../data/Titanic.csv\", Schema=\"Fare=float,PClass-\u003ePassenger Class\", ResolutionFolder=__SOURCE_DIRECTORY__\u003e.GetSample()\n",
"for row in titanic2.Rows do\n",
"  printfn \"%s Class = %d Fare = %g\" row.Name row.``Passenger Class`` row.Fare\n"]
          }
,
          {
           "cell_type": "markdown",
           "metadata": {},
           
           "source": ["これら2つのシンタックスを組み合わせて\n",
"`Schema=\"int64,DidSurvive,PClass-\u003ePassenger Class=string\"`\n",
"とすることもできます。\n",
"\n",
"## CSVファイルの変形\n",
"\n",
"`CsvProvider` はファイルの読み取りだけでなく、データの変形もサポートしています。\n",
"`Filter` `Take` `TakeWhile` `Skip` `SkipWhile` `Truncate` という操作が可能です。\n",
"これらはいずれもスキーマを維持するようになっているため、\n",
"変形後は `Save` メソッドのいずれかのオーバーロードを使って結果を保存できます。\n",
"結果をCSV形式で保存したくない場合、あるいはデータの形式を変更したい場合には、\n",
"`Rows` プロパティで取得できる行のシーケンスに対して直接\n",
"`Seq` モジュールの機能を使うこともできます。\n",
"\n"]
          }
,
          {
           "cell_type": "code",
           "metadata": {},
            "execution_count": 13, "outputs": [], 
           "source": ["// 値無しのデータを含まない先頭10行を新しいCSVファイルに保存する\n",
"airQuality.Filter(fun row -\u003e not (System.Double.IsNaN row.Ozone) \u0026\u0026 \n",
"                             not (System.Double.IsNaN row.``Solar.R``))\n",
"          .Truncate(10)\n",
"          .SaveToString()\n"]
          }
,
          {
           "cell_type": "markdown",
           "metadata": {},
           
           "source": ["## ビッグデータの処理\n",
"\n",
"デフォルトでは行がキャッシュされるため、 `Rows` プロパティを複数回走査しても\n",
"特に問題はありません。\n",
"しかし1回しか走査しないのであれば、 `CsvProvider` のstatic引数\n",
"`CacheRows` を `false` にすればキャッシュを無効化できます。\n",
"行数が非常に多い場合、キャッシュを無効化しなければ\n",
"メモリを消費し尽くしてしまうことになるでしょう。\n",
"`Cache` メソッドを使えば任意のタイミングでデータをキャッシュできますが、\n",
"データセットを小さなサイズに変形した後に限定すべきです：\n",
"## 関連する記事\n",
"\n",
" * [CSV パーサーおよびリーダー](CsvFile.html) -\n",
"   CSVドキュメントを動的に処理するための詳しい説明があります。\n",
" * [API リファレンス: CsvProvider 型プロバイダー](../../reference/fsharp-data-csvprovider.html)\n",
"\n"]
          }],
            "metadata": {
            "kernelspec": {"display_name": ".NET (F#)", "language": "F#", "name": ".net-fsharp"},
            "langauge_info": {
        "file_extension": ".fs",
        "mimetype": "text/x-fsharp",
        "name": "C#",
        "pygments_lexer": "fsharp",
        "version": "4.5"
        }
        },
            "nbformat": 4,
            "nbformat_minor": 1
        }
        

