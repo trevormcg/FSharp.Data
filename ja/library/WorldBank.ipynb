
        {
            "cells": [
          {
           "cell_type": "code",
           "metadata": {},
            "execution_count": null, "outputs": [], 
           "source": ["#r \"nuget: FSharp.Data,4.1.1\"\n",
"\n",
"Formatter.SetPreferredMimeTypeFor(typeof\u003cobj\u003e, \"text/plain\")\n",
"Formatter.Register(fun (x:obj) (writer: TextWriter) -\u003e fprintfn writer \"%120A\" x )\n"]
          }
,
          {
           "cell_type": "markdown",
           "metadata": {},
           
           "source": ["# WorldBank プロバイダー\n",
"\n",
"[世界銀行](http://www.worldbank.org) (World Bank)は世界中の発展途上国に対して、\n",
"経済的かつ技術的な支援を行っている国際組織です。\n",
"また、世界銀行は活動の一環として世界中の各国における発展指標や\n",
"その他のデータを収集しています。\n",
"[data catalog](http://data.worldbank.org/) のページではプログラムからも\n",
"アクセスできる8000以上の指標が公開されています。\n",
"\n",
"WorldBank 型プロバイダーを使うと、F#プログラムやスクリプトから型安全かつ\n",
"簡単な方法でWorldBankのデータにアクセスできるようになります。\n",
"このドキュメントはこの型プロバイダーの基本的な部分のみ説明しています。\n",
"\n",
"## 型プロバイダーの基本\n",
"\n",
"以下の例では(F# Interactive上で) `FSharp.Data.dll` ライブラリを読み込んだ後、\n",
"`GetDataContext` メソッドを使ってWorldBankへの接続を初期化し、\n",
"イギリスで大学に進学した人口の割合を受信しています；\n"]
          }
,
          {
           "cell_type": "code",
           "metadata": {},
            "execution_count": 2, "outputs": [], 
           "source": ["open FSharp.Data\n",
"\n",
"let data = WorldBankData.GetDataContext()\n",
"\n",
"data\n",
"  .Countries.``United Kingdom``\n",
"  .Indicators.``Gross capital formation (% of GDP)``\n",
"|\u003e Seq.maxBy fst\n"]
          }
,
          {
           "cell_type": "markdown",
           "metadata": {},
           
           "source": ["データコンテキストが生成されると、WorldBank 型プロバイダーは\n",
"世界銀行で把握されているすべての国のリスト、および\n",
"利用可能なすべての指針のリストを受信します。\n",
"それぞれはプロパティとして参照できるようになっているため、\n",
"自動コンプリートの候補から様々なデータソースが利用できることが確認できるでしょう。\n",
"多くの指標には長い名前がつけられているため、\n",
"名前を `\\`\\`` で囲む必要があります。\n",
"\n",
"`Gross capital formation (% of GDP)` プロパティの結果は\n",
"異なる年毎の値のシーケンスです。\n",
"`Seq.maxBy fst` とすることで直近で利用可能な最新のデータを取得できます。\n",
"\n",
"### 世界銀行のデータをチャート表示する\n",
"\n",
"\n",
"## 世界銀行のデータを非同期的に使う\n",
"\n",
"非常に大量のデータをダウンロードする必要がある場合、\n",
"あるいは呼び出し元をブロックせずに処理を実行した場合には、\n",
"F#の非同期ワークフローを使って操作ができればいいなと思うのではないでしょうか。\n",
"F# Dataライブラリには様々なstatic引数を受け取るような\n",
"`WorldBankDataProvider` 型があります。\n",
"引数 `Asyncronous` を `true` にすると、\n",
"すべての操作を非同期的に実行するような型が\n",
"型プロバイダーによって生成されます：\n"]
          }
,
          {
           "cell_type": "code",
           "metadata": {},
            "execution_count": 3, "outputs": [], 
           "source": ["type WorldBank = WorldBankDataProvider\u003c\"World Development Indicators\", Asynchronous=true\u003e\n",
"WorldBank.GetDataContext()\n"]
          }
,
          {
           "cell_type": "markdown",
           "metadata": {},
           
           "source": ["上のコードではデータソース(一般的に利用可能な指標のコレクション)の名前として\n",
"\"World Development Indicators\" を指定して、オプション引数 `Asynchronous` に\n",
"`true` を設定しています。\n",
"そうするとたとえば `Gross capital formation (% of GDP)` などのプロパティが\n",
"`Async\u003c(int * int)[]\u003e` になります。\n",
"これはつまり非同期的に処理を始めることができ、最終的にデータを生成するような\n",
"操作であることを示しています。\n",
"\n",
"### データを並列にダウンロードする\n",
"\n",
"非同期バージョンの型プロバイダーのデモとして、\n",
"多数の国における大学進学率を並列にダウンロートしてみます。\n",
"まずデータコンテキストを作成した後に、\n",
"対象とする国を配列として定義します：\n"]
          }
,
          {
           "cell_type": "code",
           "metadata": {},
            "execution_count": 4, "outputs": [], 
           "source": ["let wb = WorldBank.GetDataContext()\n",
"\n",
"// 対象とする国のリストを作成\n",
"let countries = \n",
" [| wb.Countries.``Arab World``\n",
"    wb.Countries.``European Union``\n",
"    wb.Countries.Australia\n",
"    wb.Countries.Brazil\n",
"    wb.Countries.Canada\n",
"    wb.Countries.Chile\n",
"    wb.Countries.``Czech Republic``\n",
"    wb.Countries.Denmark\n",
"    wb.Countries.France\n",
"    wb.Countries.Greece\n",
"    wb.Countries.``Low income``\n",
"    wb.Countries.``High income``\n",
"    wb.Countries.``United Kingdom``\n",
"    wb.Countries.``United States`` |]\n"]
          }
,
          {
           "cell_type": "markdown",
           "metadata": {},
           
           "source": ["データを並列にダウンロードするには、非同期計算のリストを作成した後、\n",
"それらを `Async.Parallel` で組み合わせ、\n",
"(1つになった)計算を実行してすべてのダウンロード処理を行います：\n"]
          }
,
          {
           "cell_type": "code",
           "metadata": {},
            "execution_count": 5, "outputs": [], 
           "source": ["[ for c in countries -\u003e\n",
"    c.Indicators.``Gross capital formation (% of GDP)`` ]\n",
"|\u003e Async.Parallel\n",
"|\u003e Async.RunSynchronously\n"]
          }
,
          {
           "cell_type": "markdown",
           "metadata": {},
           
           "source": ["## 関連する記事\n",
"\n",
" * [API リファレンス: WorldBankDataProvider 型プロバイダー](../../reference/fsharp-data-worldbankdataprovider.html)\n",
"\n"]
          }],
            "metadata": {
            "kernelspec": {"display_name": ".NET (F#)", "language": "F#", "name": ".net-fsharp"},
            "langauge_info": {
        "file_extension": ".fs",
        "mimetype": "text/x-fsharp",
        "name": "C#",
        "pygments_lexer": "fsharp",
        "version": "4.5"
        }
        },
            "nbformat": 4,
            "nbformat_minor": 1
        }
        

