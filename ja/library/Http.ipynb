
        {
            "cells": [
          {
           "cell_type": "code",
           "metadata": {},
            "execution_count": null, "outputs": [], 
           "source": ["#r \"nuget: FSharp.Data,4.1.1\"\n",
"\n",
"Formatter.SetPreferredMimeTypeFor(typeof\u003cobj\u003e, \"text/plain\")\n",
"Formatter.Register(fun (x:obj) (writer: TextWriter) -\u003e fprintfn writer \"%120A\" x )\n"]
          }
,
          {
           "cell_type": "markdown",
           "metadata": {},
           
           "source": ["# HTTP ユーティリティ\n",
"\n",
".NETライブラリにはHTTP Webリクエストを作成して送信するための\n",
"強力なAPIが用意されています。\n",
"具体的には単純な `WebClient` 型([MSDN][1] を参照)や、\n",
"より柔軟な機能を持った `HttpWebRequest` ([MSDN][2] を参照)があります。\n",
"しかしこれらはいずれも、HTTP POSTデータや追加のヘッダなど、\n",
"特定の引数を指定した単純なHTTPリクエストを手軽に実行することには向いていません。\n",
"\n",
"F# Dataライブラリにはオーバーロードを持った4つのメソッドを含む、\n",
"単純な `Http` 型があります。\n",
"`RequestString` と `AsyncRequestString` メソッドは単純なリクエストを作成して、\n",
"同期的あるいは非同期的にリクエストを送信できます。\n",
"また `Request` とその非同期バージョン `AsyncRequest` を使うと\n",
"バイナリファイルを送信したり、ステータスコードや応答URL、\n",
"受信ヘッダやクッキーなど、レスポンスの詳細情報を知ることができます。\n",
"\n",
" [1]: http://msdn.microsoft.com/en-us/library/system.net.webclient.aspx\n",
" [2]: http://msdn.microsoft.com/en-us/library/system.net.httpwebrequest.aspx\n",
"\n",
"この型を使うには、まず(F# Interactiveの場合は) `#r` あるいはプロジェクトで\n",
"参照の追加を行ってライブラリを参照する必要があります。\n",
"この型は `FSharp.Data` 名前空間にあります：\n"]
          }
,
          {
           "cell_type": "code",
           "metadata": {},
            "execution_count": 2, "outputs": [], 
           "source": ["open FSharp.Data\n"]
          }
,
          {
           "cell_type": "markdown",
           "metadata": {},
           
           "source": ["## 単純なリクエストの送信\n",
"\n",
"特定のWebページをダウンロードするような単純なHTTP (GET) リクエストを送信するには、\n",
"`Http.RequestString` あるいは `Http.AsyncRequestString` にたった1つの引数を\n",
"指定するだけです：\n"]
          }
,
          {
           "cell_type": "code",
           "metadata": {},
            "execution_count": 3, "outputs": [], 
           "source": ["// Webサイトのコンテンツをダウンロード\n",
"Http.RequestString(\"http://tomasp.net\")\n",
"\n",
"// Webサイトから非同期的にダウンロード\n",
"async { let! html = Http.AsyncRequestString(\"http://tomasp.net\")\n",
"        printfn \"%d\" html.Length }\n",
"|\u003e Async.Start\n"]
          }
,
          {
           "cell_type": "markdown",
           "metadata": {},
           
           "source": ["`AsyncRequestString` は `RequestString` と全く同じ方法で使うことができるため、\n",
"以降では `RequestString` だけを使います。\n",
"\n",
"## クエリ引数とヘッダ\n",
"\n",
"クエリ引数は引数を含んだURLを用意するか、\n",
"`query` という省略可能な引数を使って指定できます。\n",
"以下では明示的にGETメソッドであることを指定していますが、\n",
"省略した場合には自動的にGETになります：\n"]
          }
,
          {
           "cell_type": "code",
           "metadata": {},
            "execution_count": 4, "outputs": [], 
           "source": ["Http.RequestString(\"http://httpbin.org/get\", query=[\"test\", \"foo\"], httpMethod=\"Get\")\n"]
          }
,
          {
           "cell_type": "markdown",
           "metadata": {},
           
           "source": ["同じように、省略可能な引数 `headers` を使うと追加のヘッダを指定できます。\n",
"このコレクションには独自のヘッダを追加できますが、\n",
"Acceptヘッダのような標準的なヘッダも含まれています\n",
"( `HttpWebRequest` の場合には特定のプロパティに設定する必要があります)。\n",
"\n",
"以下では [The Movie Database](http://www.themoviedb.org) APIを使って\n",
"「batman」という単語を検索しています。\n",
"サンプルを実行するためには登録をしてAPIキーを取得する必要があります：\n"]
          }
,
          {
           "cell_type": "code",
           "metadata": {},
            "execution_count": null, "outputs": [], 
           "source": ["// http://www.themoviedb.org 用のAPIキー\n",
"let apiKey = \"\u003c登録してキーを取得してください\u003e\"\n",
"\n",
"// HTTP Webリクエストを実行\n",
"Http.RequestString\n",
"  ( \"http://api.themoviedb.org/3/search/movie\", httpMethod = \"GET\",\n",
"    query   = [ \"api_key\", apiKey; \"query\", \"batman\" ],\n",
"    headers = [ \"Accept\", \"application/json\" ])\n"]
          }
,
          {
           "cell_type": "markdown",
           "metadata": {},
           
           "source": ["このライブラリでは(先の例のように)単純かつチェックのない文字列ベースのAPIがサポートされていますが、\n",
"スペルミスを防ぐことができるよう、あらかじめ定義されたヘッダ名を使うこともできます。\n",
"名前付きヘッダは `HttpRequestHeaders` (および `HttpResponseHeaders`) モジュールで定義されているため、\n",
"`HttpRequestHeaders.Accept` のようにフルネームを指定するか、\n",
"以下の例のようにモジュールをオープンしておいてから `Accept` のような短い名前で指定することになります。\n",
"同様に、 `HttpContentTypes` 列挙体には既知のコンテンツタイプ名が定義されています：\n"]
          }
,
          {
           "cell_type": "code",
           "metadata": {},
            "execution_count": 5, "outputs": [], 
           "source": ["open FSharp.Data.HttpRequestHeaders\n"]
          }
,
          {
           "cell_type": "code",
           "metadata": {},
            "execution_count": null, "outputs": [], 
           "source": ["// HTTP Webリクエストを実行\n",
"Http.RequestString\n",
"  ( \"http://api.themoviedb.org/3/search/movie\",\n",
"    query   = [ \"api_key\", apiKey; \"query\", \"batman\" ],\n",
"    headers = [ Accept HttpContentTypes.Json ])\n"]
          }
,
          {
           "cell_type": "markdown",
           "metadata": {},
           
           "source": ["## 特別な情報の取得\n",
"\n",
"先のコードスニペットでは、正しいAPIキーを指定しなかった場合には(401)認証エラーが返され、\n",
"例外が発生することに注意してください。\n",
"ただし `WebRequest` を直接使用した場合とは異なり、例外メッセージには返されたコンテンツの情報も含まれるため、\n",
"サーバーが特別な情報を返すような場合であってもF# Interactiveで簡単にデバッグできます。\n",
"\n",
"また `silentHttpErrors` 引数を設定することによって例外を無効化することもできます:\n"]
          }
,
          {
           "cell_type": "code",
           "metadata": {},
            "execution_count": 6, "outputs": [], 
           "source": ["Http.RequestString(\"http://api.themoviedb.org/3/search/movie\", silentHttpErrors = true)\n"]
          }
,
          {
           "cell_type": "markdown",
           "metadata": {},
           
           "source": ["この結果は以下のようになります： \n",
"```\n",
"\"{\"status_code\":7,\"status_message\":\"Invalid API key: You must be granted a valid key.\",\"success\":false}\n",
"\"\n",
"```\n",
"\n",
"この場合にはHTTPステータスコードを確認すればよいため、実際にレスポンスとして返されたデータと\n",
"エラーメッセージとを混同することもないでしょう。\n",
"ステータスコードやレスポンスヘッダー、返されたクッキー、レスポンスURL\n",
"(リダイレクトされた場合にはリクエストを投げたURLとは別の値が返されることがあります)など、\n",
"レスポンスの詳細を確認したい場合には `RequestString` の代わりに `Request` メソッドを使用します:\n",
"\n"]
          }
,
          {
           "cell_type": "code",
           "metadata": {},
            "execution_count": null, "outputs": [], 
           "source": ["let response = Http.Request(\"http://api.themoviedb.org/3/search/movie\", silentHttpErrors = true)\n",
"\n",
"// レスポンスの詳細を確認する\n",
"response.Headers\n",
"response.Cookies\n",
"response.ResponseUrl\n",
"response.StatusCode\n"]
          }
,
          {
           "cell_type": "markdown",
           "metadata": {},
           
           "source": ["## リクエストデータの送信\n",
"\n",
"HTTP POSTデータを含んだPOSTリクエストを作成したい場合は、\n",
"オプション引数 `body` に追加データを指定するだけです。\n",
"この引数は3つのケースを持った判別共用体 `HttpRequestBody` 型です：\n",
"\n",
"* `TextRequest` はリクエストの本体で文字列を送信するために使用します\n",
"* `BinaryUpload` はリクエストにバイナリデータを含めて送信する場合に使用します\n",
"* `FormValues` は特定のフォームの値を名前と値のペアとして\n",
"  送信するために使用します\n",
"\n",
"bodyを指定した場合、引数 `httpMethod` には自動的に `Post` が設定されるようになるため、\n",
"明示的に指定する必要はありません。\n",
"\n",
"以下ではリクエストの詳細を返すサービス\n",
"[httpbin.org](http://httpbin.org)\n",
"を使っています：\n"]
          }
,
          {
           "cell_type": "code",
           "metadata": {},
            "execution_count": 7, "outputs": [], 
           "source": ["Http.RequestString(\"http://httpbin.org/post\", body = FormValues [\"test\", \"foo\"])\n"]
          }
,
          {
           "cell_type": "markdown",
           "metadata": {},
           
           "source": ["デフォルトでは `Content-Type` ヘッダには `HttpRequestBody` に指定した値に応じて\n",
"`text/plain` `application/x-www-form-urlencoded` `application/octet-stream`\n",
"のいずれかが設定されます。\n",
"ただしオプション引数 `headers` を使ってヘッダのリストに `content-type` を\n",
"追加することでこの動作を変更できます：\n"]
          }
,
          {
           "cell_type": "code",
           "metadata": {},
            "execution_count": 8, "outputs": [], 
           "source": ["Http.RequestString\n",
"  ( \"http://httpbin.org/post\", \n",
"    headers = [ ContentType HttpContentTypes.Json ],\n",
"    body = TextRequest \"\"\" {\"test\": 42} \"\"\")\n"]
          }
,
          {
           "cell_type": "markdown",
           "metadata": {},
           
           "source": ["## リクエスト間でクッキーを管理する\n",
"\n",
"リクエスト間でクッキーを管理したい場合には、\n",
"引数 `cookieContainer` を指定します。\n",
"以下では `HttpRequest` クラスに関するMSDNドキュメントをリクエストしています。\n",
"そうするとF#ではなくC#のコードスニペットが表示されます：\n",
"\n",
"(NOTE: This is an old sample and typechecks, but does not execute)\n"]
          }
,
          {
           "cell_type": "code",
           "metadata": {},
            "execution_count": null, "outputs": [], 
           "source": ["// 特定のクラスに関するドキュメント用のURLを用意する\n",
"let msdnUrl className = \n",
"  let root = \"http://msdn.microsoft.com\"\n",
"  sprintf \"%s/en-gb/library/%s.aspx\" root className\n",
"\n",
"// ページを取得してF#コードを検索する\n",
"let docInCSharp = Http.RequestString(msdnUrl \"system.web.httprequest\")\n",
"docInCSharp.Contains \"\u003ca\u003eF#\u003c/a\u003e\"\n"]
          }
,
          {
           "cell_type": "markdown",
           "metadata": {},
           
           "source": ["別のMSDNのページに移動してF#のコード例をクリックしてから\n",
"`HttpRequest` クラスのドキュメントに戻ってくると、\n",
"同じ `cookieContainer` を保持し続けている限りはF#のコードが\n",
"表示されるようになります：\n"]
          }
,
          {
           "cell_type": "code",
           "metadata": {},
            "execution_count": null, "outputs": [], 
           "source": ["open System.Net\n",
"let cc = CookieContainer()\n",
"\n",
"// 言語を切り替えるためのリクエストを送信\n",
"Http.RequestString\n",
"  ( msdnUrl \"system.datetime\", \n",
"    query = [\"cs-save-lang\", \"1\"; \"cs-lang\",\"fsharp\"], \n",
"    cookieContainer = cc) |\u003e ignore\n",
"\n",
"// 再度ドキュメントをリクエストしてF#のコードを検索\n",
"let docInFSharp = \n",
"  Http.RequestString\n",
"    ( msdnUrl \"system.web.httprequest\", \n",
"      cookieContainer = cc )\n",
"docInFSharp.Contains \"\u003ca\u003eF#\u003c/a\u003e\"\n"]
          }
,
          {
           "cell_type": "markdown",
           "metadata": {},
           
           "source": ["## バイナリデータの送信\n",
"\n",
"\n",
"`RequestString` メソッドでは常に `string` としてレスポンスが返されます。\n",
"しかし `Request` メソッドの場合にはレスポンスの `content-type` ヘッダに応じて\n",
"`HttpResponseBody.Text` または `HttpResponseBody.Binary` が返されます：\n"]
          }
,
          {
           "cell_type": "code",
           "metadata": {},
            "execution_count": 9, "outputs": [], 
           "source": ["let logoUrl = \"https://raw.github.com/fsharp/FSharp.Data/master/misc/logo.png\"\n",
"match Http.Request(logoUrl).Body with\n",
"| Text text -\u003e \n",
"    printfn \"Got text content: %s\" text\n",
"| Binary bytes -\u003e \n",
"    printfn \"Got %d bytes of binary content\" bytes.Length\n"]
          }
,
          {
           "cell_type": "markdown",
           "metadata": {},
           
           "source": ["## HTTPリクエストのカスタマイズ\n",
"\n",
"ライブラリに元々備えられていないような機能を使用したい場合には、\n",
"`customizeHttpRequest` 引数を設定することになります。\n",
"この引数には `HttpWebRequest` を変更するための関数を指定します。\n",
"\n",
"たとえばリクエストにクライアント証明書を追加したいとします。\n",
"そのためにはまず `System.Security.Cryptography` 以下の\n",
"`X509Certificates` 名前空間をオープンして、\n",
"`X509ClientCertificate2` の値を用意し、\n",
"この値をリクエストの `ClientCertificates` リストに追加します。\n",
"\n",
"証明書が `myCertificate.pfx` に格納されているとすると、\n",
"以下のようなコードになります：\n"]
          }
,
          {
           "cell_type": "code",
           "metadata": {},
            "execution_count": null, "outputs": [], 
           "source": ["open System.Security.Cryptography.X509Certificates\n",
"\n",
"// ローカルファイルから証明書を読み取り\n",
"let clientCert = \n",
"  new X509Certificate2(\".\\myCertificate.pfx\", \"password\")\n",
"\n",
"// 証明書付きでリクエストを送信\n",
"Http.Request\n",
"  ( \"http://yourprotectedresouce.com/data\",\n",
"    customizeHttpRequest = fun req -\u003e req.ClientCertificates.Add(clientCert) |\u003e ignore; req)\n"]
          }
,
          {
           "cell_type": "markdown",
           "metadata": {},
           
           "source": ["## 関連する記事\n",
"\n",
" * [API リファレンス: HTTP クラス](../../reference/fsharp-data-http.html)\n",
" * [API リファレンス: HttpMethod モジュール](../../reference/fsharp-data-httpmethod.html)\n",
" * [API リファレンス: HttpRequestHeaders モジュール](../../reference/fsharp-data-httprequestheaders.html)\n",
" * [API リファレンス: HttpResponseHeaders モジュール](../../reference/fsharp-data-httpresponseheaders.html)\n",
" * [API リファレンス: HttpContentTypes モジュール](../../reference/fsharp-data-httpcontenttypes.html)\n",
" * [API リファレンス: HttpRequestBody 判別共用体](../../reference/fsharp-data-httprequestbody.html)\n",
" * [API リファレンス: HttpResponse レコード](../../reference/fsharp-data-httpresponse.html)\n",
" * [API リファレンス: HttpResponseBody 判別共用体](../../reference/fsharp-data-httpresponsebody.html)\n",
" * [API リファレンス: HttpResponseWithStream レコード](../../reference/fsharp-data-httpresponsewithstream.html)\n",
"\n"]
          }],
            "metadata": {
            "kernelspec": {"display_name": ".NET (F#)", "language": "F#", "name": ".net-fsharp"},
            "langauge_info": {
        "file_extension": ".fs",
        "mimetype": "text/x-fsharp",
        "name": "C#",
        "pygments_lexer": "fsharp",
        "version": "4.5"
        }
        },
            "nbformat": 4,
            "nbformat_minor": 1
        }
        

