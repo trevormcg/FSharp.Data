
        {
            "cells": [
          {
           "cell_type": "code",
           "metadata": {},
            "execution_count": null, "outputs": [], 
           "source": ["#r \"nuget: FSharp.Data,4.1.1\"\n",
"\n",
"Formatter.SetPreferredMimeTypeFor(typeof\u003cobj\u003e, \"text/plain\")\n",
"Formatter.Register(fun (x:obj) (writer: TextWriter) -\u003e fprintfn writer \"%120A\" x )\n"]
          }
,
          {
           "cell_type": "markdown",
           "metadata": {},
           
           "source": ["# JSON 型プロバイダー\n",
"\n",
"このドキュメントではJSON 型プロバイダーを使って\n",
"静的に型付けされた方法でJSONファイルを扱う方法について説明します。\n",
"まず型が推測される方法について説明した後、\n",
"このプロバイダーを使って世界銀行やTwitterから受け取ったデータをパースするデモを\n",
"紹介します。\n",
"\n",
"JSON 型プロバイダーにはJSONドキュメントを静的に型付けされた方法で\n",
"アクセスするための機能があります。\n",
"このプロバイダーはサンプルとなるドキュメント\n",
"(あるいは複数のサンプルをJSON配列として含むようなドキュメント)を\n",
"入力として受け取ります\n",
"生成された型を使うと、同じ構造のファイルを読み取ることができます。\n",
"読み取ったファイルがサンプルとは異なる構造になっている場合には\n",
"実行時エラーが発生します(ただし存在しない要素などにアクセスした場合に限ります)。\n",
"\n",
"## プロバイダーの基本\n",
"\n",
"型プロバイダーは `FSharp.Data.dll` アセンブリ内にあります。\n",
"このアセンブリが `../../../../bin` ディレクトリにあるとすると、\n",
"以下のようにするとF# Interactive上でアセンブリをロードできます：\n"]
          }
,
          {
           "cell_type": "code",
           "metadata": {},
            "execution_count": 2, "outputs": [], 
           "source": ["open FSharp.Data\n"]
          }
,
          {
           "cell_type": "markdown",
           "metadata": {},
           
           "source": ["### サンプルからの型の推測\n",
"\n",
"`JsonProvider\u003c...\u003e` は `string` 型のstatic引数を1つとります。\n",
"この引数にはサンプルとなる文字列あるいはファイル\n",
"(カレントディレクトリからの相対パスか、 `http` `https` で\n",
"アクセスできるオンライン上のファイル)の **どちらか一方** を指定します。\n",
"この引数の値があいまいになることはほとんどありえないでしょう。\n",
"\n",
"以下のコードでは小さなJSON文字列をプロバイダーに渡しています：\n"]
          }
,
          {
           "cell_type": "code",
           "metadata": {},
            "execution_count": 3, "outputs": [], 
           "source": ["type Simple = JsonProvider\u003c\"\"\" { \"name\":\"John\", \"age\":94 } \"\"\"\u003e\n",
"let simple = Simple.Parse(\"\"\" { \"name\":\"Tomas\", \"age\":4 } \"\"\")\n",
"simple.Age\n",
"simple.Name\n"]
          }
,
          {
           "cell_type": "markdown",
           "metadata": {},
           
           "source": ["生成された型には `Age` という `int` 型のプロパティと、\n",
"`Name` という `string` 型のプロパティがあることがわかります。\n",
"つまり型プロバイダーがサンプルから適切な型を推測して、\n",
"それらを(標準の命名規則に従ってパスカル記法の名前の)プロパティとして\n",
"公開しているというわけです。\n",
"\n",
"### 数値型に対する推測\n",
"\n",
"先ほどの例では、サンプルファイルには単なる整数が含まれていたので、\n",
"プロバイダーも `int` 型と推測しました。\n",
"しかし場合によってはサンプルのドキュメント(あるいはサンプルのリスト)にある型とは\n",
"厳密に一致しないことがあります。\n",
"たとえば以下のように integer と float が混ざったリストがあるとします：\n"]
          }
,
          {
           "cell_type": "code",
           "metadata": {},
            "execution_count": 4, "outputs": [], 
           "source": ["type Numbers = JsonProvider\u003c\"\"\" [1, 2, 3, 3.14] \"\"\"\u003e\n",
"let nums = Numbers.Parse(\"\"\" [1.2, 45.1, 98.2, 5] \"\"\")\n",
"let total = nums |\u003e Seq.sum\n"]
          }
,
          {
           "cell_type": "markdown",
           "metadata": {},
           
           "source": ["サンプルがコレクションの場合、型プロバイダーはサンプル内のすべての値を\n",
"格納できるような型を生成します。\n",
"今回の場合は一部の値が integer ではないため、最終的に `decimal` 型になります。\n",
"型プロバイダーで一般的にサポートされている型は\n",
"`int` `int64` `decimal` `float` です\n",
"(また、この順序で推測されます)。\n",
"\n",
"その他のプリミティブ型の組み合わせになっている場合には型を1つに限定できません。\n",
"たとえばリストに数値と文字列があるような場合です。\n",
"この場合、プロバイダーはいずれか一方の型に一致するような値を取得できるように\n",
"2種類のメソッドを生成します：\n"]
          }
,
          {
           "cell_type": "code",
           "metadata": {},
            "execution_count": 5, "outputs": [], 
           "source": ["type Mixed = JsonProvider\u003c\"\"\" [1, 2, \"hello\", \"world\"] \"\"\"\u003e\n",
"let mixed = Mixed.Parse(\"\"\" [4, 5, \"hello\", \"world\" ] \"\"\")\n",
"\n",
"mixed.Numbers |\u003e Seq.sum\n",
"mixed.Strings |\u003e String.concat \", \"\n"]
          }
,
          {
           "cell_type": "markdown",
           "metadata": {},
           
           "source": ["このように、 `Mixed` 型には `Numbers` と `Strings` という、\n",
"それぞれコレクション内の `int` か `string` の値しか返さないメソッドが\n",
"定義されていることがわかります。\n",
"つまり型セーフな状態でアクセスできるものの、\n",
"元の順序通りには値を取得することはできません\n",
"(値の順序が重要であれば、 `mixed.JsonValue` プロパティで `JsonValue` を取得した後、\n",
"[`JsonValue` のドキュメント](JsonValue.html) で説明している方法で\n",
"処理するとよいでしょう)。\n",
"\n",
"### レコード型の推測\n",
"\n",
"次はレコード型を含むJSONドキュメントをサンプルにしてみましょう。\n",
"以下では2つのレコードを使っています。\n",
"1つには `name` と `age` 、もう1つには `name` だけがあります。\n",
"もしもプロパティが値無しになる場合、型プロバイダーはオプション型として推測します。\n",
"\n",
"また、スキーマと同じテキストを実行時にも使いたい場合には\n",
"`GetSamples` メソッドを使います：\n"]
          }
,
          {
           "cell_type": "code",
           "metadata": {},
            "execution_count": 6, "outputs": [], 
           "source": ["type People = JsonProvider\u003c\"\"\" [{ \"name\":\"John\", \"age\":94 }, { \"name\":\"Tomas\" }] \"\"\"\u003e\n",
"\n",
"for item in People.GetSamples() do \n",
"  printf \"%s \" item.Name \n",
"  item.Age |\u003e Option.iter (printf \"(%d)\")\n",
"  printfn \"\"\n"]
          }
,
          {
           "cell_type": "markdown",
           "metadata": {},
           
           "source": ["`items` 用に推測された型は(無名の)JSONエンティティのコレクションで、\n",
"それぞれには `Name` と `Age` というプロパティがあります。\n",
"`Age` はサンプルデータ内のすべてのレコードで使われているわけでは無いため、\n",
"`option\u003cint\u003e` 型と推測されています。\n",
"また、上のコードでは値が利用できる場合に限って表示できるように\n",
"`Option.iter` を使っています。\n",
"\n",
"前回の例では各プロパティの値の型は共通していました。\n",
"`Name` プロパティは `string` で、 `Age` プロパティは数値でした。\n",
"しかしレコードのプロパティに複数の異なる型が使われていた場合にはどうなるでしょう？\n",
"この場合、型プロバイダーは以下のように動作します：\n"]
          }
,
          {
           "cell_type": "code",
           "metadata": {},
            "execution_count": 7, "outputs": [], 
           "source": ["type Values = JsonProvider\u003c\"\"\" [{\"value\":94 }, {\"value\":\"Tomas\" }] \"\"\"\u003e\n",
"\n",
"for item in Values.GetSamples() do \n",
"  match item.Value.Number, item.Value.String with\n",
"  | Some num, _ -\u003e printfn \"数値: %d\" num\n",
"  | _, Some str -\u003e printfn \"テキスト: %s\" str\n",
"  | _ -\u003e printfn \"何かその他の値です！\"\n"]
          }
,
          {
           "cell_type": "markdown",
           "metadata": {},
           
           "source": ["このように、 `Value` プロパティは数値か文字列になります。\n",
"型プロバイダーは取り得る型それぞれをオプション型のプロパティとして定義します。\n",
"そのため、 `option\u003cint\u003e` と `option\u003cstring\u003e` の値に対する\n",
"単純なパターンマッチを使ってそれぞれの値を取得できます。\n",
"この方法は多種多様なデータを含む配列を処理する方法に似ています。\n",
"\n",
"ここではサンプルがJSONのリストになっているために `GetSamples` を使っている\n",
"という点に注意してください。\n",
"もしもサンプルがJSONオブジェクトの場合には `GetSample` を使います。\n",
"\n",
"## 世界銀行のデータの読み取り\n",
"\n",
"では型プロバイダーを使って実際のデータを処理してみましょう。\n",
"[世界銀行](http://data.worldbank.org) (World Bank)から\n",
"受信したデータセットを使います。\n",
"このデータは以下のような構造になっています：\n",
"\n",
"    [lang=js]\n",
"    [ { \"page\": 1, \"pages\": 1, \"total\": 53 },\n",
"      [ { \"indicator\": {\"value\": \"Central government debt, total (% of GDP)\"},\n",
"          \"country\": {\"id\":\"CZ\",\"value\":\"Czech Republic\"},\n",
"          \"value\":null,\"decimal\":\"1\",\"date\":\"2000\"},\n",
"        { \"indicator\": {\"value\": \"Central government debt, total (% of GDP)\"},\n",
"          \"country\": {\"id\":\"CZ\",\"value\":\"Czech Republic\"},\n",
"          \"value\":\"16.6567773464055\",\"decimal\":\"1\",\"date\":\"2010\"} ] ]\n",
"\n",
"2つの要素を含んだ1つの配列がレスポンスとして返されます。\n",
"1つめの要素にはレスポンスに関する一般的な情報(ページ数、総ページ数など)があり、\n",
"2つめの要素には実際のデータ点を表すような別の配列があります。\n",
"それぞれのデータ点について何らかの情報や実際の `value` (値)を取得できます。\n",
"なお `value` は(何らかの理由により)文字列として返されていることに注意してください。\n",
"引用符で囲われているため、型プロバイダーはこの型を `string` と推測します\n",
"(そして手動で変換する必要があります)。\n",
"\n",
"以下では [`data/WorldBank.json`](../../data/WorldBank.json) をサンプルファイルにして\n",
"型を生成した後、同じファイルを読み込んでいます：\n"]
          }
,
          {
           "cell_type": "code",
           "metadata": {},
            "execution_count": 8, "outputs": [], 
           "source": ["type WorldBank = JsonProvider\u003c\"../../data/WorldBank.json\", ResolutionFolder=__SOURCE_DIRECTORY__\u003e\n",
"let doc = WorldBank.GetSample()\n"]
          }
,
          {
           "cell_type": "markdown",
           "metadata": {},
           
           "source": ["型プロバイダーのサンプル用の引数と、 `Load` メソッドの引数にはいずれも\n",
"Web上のURLを指定して直接データを読み取ることができることに注意してください。\n",
"また、非同期バージョンの `AsyncLoad` メソッドもあります：\n"]
          }
,
          {
           "cell_type": "code",
           "metadata": {},
            "execution_count": 9, "outputs": [], 
           "source": ["let docAsync = WorldBank.AsyncLoad(\"http://api.worldbank.org/country/cz/indicator/GC.DOD.TOTL.GD.ZS?format=json\")\n"]
          }
,
          {
           "cell_type": "markdown",
           "metadata": {},
           
           "source": ["`doc` は多種多様な型を含んだ配列なので、\n",
"それぞれレコードや配列を取得できるようなプロパティを持った型が生成されます。\n",
"なお型プロバイダーは1つのレコードと1つの配列だけが含まれているものとして\n",
"型を推測していることに注意してください(以前の例では\n",
"複数の数値と複数の文字列が配列中にありました)。\n",
"この場合はメソッドは生成されず、\n",
"単に `Record` や `Array` というプロパティが生成されます。\n",
"したがって以下のようにすればデータセットを表示できます：\n"]
          }
,
          {
           "cell_type": "code",
           "metadata": {},
            "execution_count": 10, "outputs": [], 
           "source": ["// 一般的な情報を表示\n",
"let info = doc.Record\n",
"printfn \"%d ページ中 %d ページ目を表示中。総レコード数 %d\" \n",
"  info.Pages info.Page info.Total\n",
"\n",
"// すべてのデータ点を表示\n",
"for record in doc.Array do\n",
"  record.Value |\u003e Option.iter (fun value -\u003e\n",
"    printfn \"%d: %f\" record.Date value)\n"]
          }
,
          {
           "cell_type": "markdown",
           "metadata": {},
           
           "source": ["データ点を表示する場合、一部で値無しになっていることがあります\n",
"(入力データでは適切な値の代わりに `null` という値になっています)。\n",
"ここでもまた多種多様な型になっています。\n",
"つまり型は `Number` か、あるいは( `null` を表すような)別の型のどちらかです。\n",
"したがって `record.Value` には(値が数値であれば) `Number` プロパティがあり、\n",
"このプロパティを使えばデータ点が有効である場合に限り結果を表示できます。\n",
"\n",
"## Twitterのストリームをパースする\n",
"\n",
"次の例として、 [Twitter API](http://dev.twitter.com/) から返される\n",
"ツイートをパースする例を紹介しましょう。\n",
"ツイートには非常に多種多様なデータが含まれているため、\n",
"単に文字列を1つ指定するのではなく、入力 **リスト** を使って\n",
"型を推測させることにします。\n",
"そのため、 `SampleIsList=true` という、サンプルが **サンプルのリスト**\n",
"になっていることを明示するオプションを指定した状態で\n",
"[`data/TwitterStream.json`](../../data/TwitterStream.json)\n",
"ファイルを使います：\n",
"\n"]
          }
,
          {
           "cell_type": "code",
           "metadata": {},
            "execution_count": 11, "outputs": [], 
           "source": ["type Tweet = JsonProvider\u003c\"../../data/TwitterStream.json\", SampleIsList=true, ResolutionFolder=__SOURCE_DIRECTORY__\u003e\n",
"let text = (*[omit:(omitted)]*)\"\"\" {\"in_reply_to_status_id_str\":null,\"text\":\"\\u5927\\u91d1\\u6255\\u3063\\u3066\\u904a\\u3070\\u3057\\u3066\\u3082\\u3089\\u3046\\u3002\\u3082\\u3046\\u3053\\u306e\\u4e0a\\u306a\\u3044\\u8d05\\u6ca2\\u3002\\u3067\\u3082\\uff0c\\u5b9f\\u969b\\u306b\\u306f\\u305d\\u306e\\u8d05\\u6ca2\\u306e\\u672c\\u8cea\\u3092\\u6e80\\u55ab\\u3067\\u304d\\u308b\\u4eba\\u306f\\u9650\\u3089\\u308c\\u3066\\u308b\\u3002\\u305d\\u3053\\u306b\\u76ee\\u306b\\u898b\\u3048\\u306a\\u3044\\u968e\\u5c64\\u304c\\u3042\\u308b\\u3068\\u304a\\u3082\\u3046\\u3002\",\"in_reply_to_user_id_str\":null,\"retweet_count\":0,\"geo\":null,\"source\":\"web\",\"retweeted\":false,\"truncated\":false,\"id_str\":\"263290764686155776\",\"entities\":{\"user_mentions\":[],\"hashtags\":[],\"urls\":[]},\"in_reply_to_user_id\":null,\"in_reply_to_status_id\":null,\"place\":null,\"coordinates\":null,\"in_reply_to_screen_name\":null,\"created_at\":\"Tue Oct 30 14:46:24 +0000 2012\",\"user\":{\"notifications\":null,\"contributors_enabled\":false,\"time_zone\":\"Tokyo\",\"profile_background_color\":\"FFFFFF\",\"location\":\"Kodaira Tokyo Japan\",\"profile_background_tile\":false,\"profile_image_url_https\":\"https:\\/\\/si0.twimg.com\\/profile_images\\/1172376796\\/70768_100000537851636_3599485_q_normal.jpg\",\"default_profile_image\":false,\"follow_request_sent\":null,\"profile_sidebar_fill_color\":\"17451B\",\"description\":\"KS(Green62)\\/WasedaUniv.(Schl Adv Sci\\/Eng)\\/SynBio\\/ChronoBio\\/iGEM2010-2012\\/Travel\\/Airplane\\/ \\u5bfa\\u30fb\\u5ead\\u3081\\u3050\\u308a\",\"favourites_count\":17,\"screen_name\":\"Merlin_wand\",\"profile_sidebar_border_color\":\"000000\",\"id_str\":\"94788486\",\"verified\":false,\"lang\":\"ja\",\"statuses_count\":8641,\"profile_use_background_image\":true,\"protected\":false,\"profile_image_url\":\"http:\\/\\/a0.twimg.com\\/profile_images\\/1172376796\\/70768_100000537851636_3599485_q_normal.jpg\",\"listed_count\":31,\"geo_enabled\":true,\"created_at\":\"Sat Dec 05 13:07:32 +0000 2009\",\"profile_text_color\":\"000000\",\"name\":\"Marin\",\"profile_background_image_url\":\"http:\\/\\/a0.twimg.com\\/profile_background_images\\/612807391\\/twitter_free1.br.jpg\",\"friends_count\":629,\"url\":null,\"id\":94788486,\"is_translator\":false,\"default_profile\":false,\"following\":null,\"profile_background_image_url_https\":\"https:\\/\\/si0.twimg.com\\/profile_background_images\\/612807391\\/twitter_free1.br.jpg\",\"utc_offset\":32400,\"profile_link_color\":\"ADADAD\",\"followers_count\":426},\"id\":263290764686155776,\"contributors\":null,\"favorited\":false} \"\"\"(*[/omit]*)\n",
"let tweet = Tweet.Parse(text)\n",
"\n",
"printfn \"%s (%d 回リツイートされました)\\n:%s\"\n",
"  tweet.User.Value.Name tweet.RetweetCount.Value tweet.Text.Value\n"]
          }
,
          {
           "cell_type": "markdown",
           "metadata": {},
           
           "source": ["`Tweet` 型を作成した後に、サンプルのツイートを1つパースした後、\n",
"ツイートに関する詳細を表示しています。\n",
"実際に試してみるとわかりますが、 `tweet.User` プロパティは\n",
"オプション型として推測されているため\n",
"(つまり作者のいないツイートもあり得るということ？)、\n",
"常に `Value` プロパティから値が取得できるとは限りません。\n",
"同じように `RetweetCount` と `Text` プロパティも値無しになることがあるため、\n",
"上のコードは安全ではないことに注意してください。\n",
"\n",
"## GitHubのIssuesを取得および作成する\n",
"\n",
"この例ではJSONを作成するだけでなく、それを実際に使用する方法を紹介します。\n",
"まず FSharp.Data リポジトリのオープンされているIssuesのうちで\n",
"直近の5つを取得してみましょう。\n",
"\n"]
          }
,
          {
           "cell_type": "code",
           "metadata": {},
            "execution_count": 12, "outputs": [], 
           "source": ["// GitHub.json downloaded from https://api.github.com/repos/fsharp/FSharp.Data/issues to prevent rate limit when generating these docs\n",
"type GitHub = JsonProvider\u003c\"../../data/GitHub.json\", ResolutionFolder=__SOURCE_DIRECTORY__\u003e\n",
"\n",
"let topRecentlyUpdatedIssues = \n",
"    GitHub.GetSamples()\n",
"    |\u003e Seq.filter (fun issue -\u003e issue.State = \"open\")\n",
"    |\u003e Seq.sortBy (fun issue -\u003e System.DateTimeOffset.Now - issue.UpdatedAt)\n",
"    |\u003e Seq.truncate 5\n",
"\n",
"for issue in topRecentlyUpdatedIssues do\n",
"    printfn \"#%d %s\" issue.Number issue.Title\n"]
          }
,
          {
           "cell_type": "markdown",
           "metadata": {},
           
           "source": ["次に新しいIssueを作成してみます。\n",
"GitHubのドキュメント http://developer.github.com/v3/issues/#create-an-issue\n",
"を見てみると、以下のようなJSON値をポストすればいいことがわかります：\n",
"\n"]
          }
,
          {
           "cell_type": "code",
           "metadata": {},
            "execution_count": 13, "outputs": [], 
           "source": ["[\u003cLiteral\u003e]\n",
"let issueSample = \"\"\"\n",
"{\n",
"  \"title\": \"Found a bug\",\n",
"  \"body\": \"I\u0027m having a problem with this.\",\n",
"  \"assignee\": \"octocat\",\n",
"  \"milestone\": 1,\n",
"  \"labels\": [\n",
"    \"Label1\",\n",
"    \"Label2\"\n",
"  ]\n",
"}\n",
"\"\"\"\n"]
          }
,
          {
           "cell_type": "markdown",
           "metadata": {},
           
           "source": ["このJSONデータは先ほどAPIを呼び出して取得した\n",
"Issueそれぞれに対応するものとは異なります。\n",
"そのため、このサンプルデータを元にして新しい型を定義し、\n",
"そのインスタンスを作成してリクエストをPOSTします：\n",
"\n"]
          }
,
          {
           "cell_type": "code",
           "metadata": {},
            "execution_count": null, "outputs": [], 
           "source": ["type GitHubIssue = JsonProvider\u003cissueSample, RootName=\"issue\"\u003e\n",
"\n",
"let newIssue = GitHubIssue.Issue(\"Test issue\",\n",
"                                 \"This is a test issue created in FSharp.Data documentation\", \n",
"                                 assignee = \"\",\n",
"                                 labels = [| |], \n",
"                                 milestone = 0)\n",
"newIssue.JsonValue.Request \"https://api.github.com/repos/fsharp/FSharp.Data/issues\"\n"]
          }
,
          {
           "cell_type": "markdown",
           "metadata": {},
           
           "source": ["## 関連する記事\n",
"\n",
" * [JSON パーサーおよびリーダー](JsonValue.html) -\n",
"   JSONの値を動的に処理する方法についての説明があります。\n",
" * [API リファレンス: JsonProvider 型プロバイダー](../../reference/fsharp-data-jsonprovider.html)\n",
" * [API リファレンス: JsonValue 判別共用体](../../reference/fsharp-data-jsonvalue.html)\n",
"\n"]
          }],
            "metadata": {
            "kernelspec": {"display_name": ".NET (F#)", "language": "F#", "name": ".net-fsharp"},
            "langauge_info": {
        "file_extension": ".fs",
        "mimetype": "text/x-fsharp",
        "name": "C#",
        "pygments_lexer": "fsharp",
        "version": "4.5"
        }
        },
            "nbformat": 4,
            "nbformat_minor": 1
        }
        

